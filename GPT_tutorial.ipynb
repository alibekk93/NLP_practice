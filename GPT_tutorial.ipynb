{
  "cells": [
    {
      "cell_type": "markdown",
      "metadata": {
        "id": "view-in-github",
        "colab_type": "text"
      },
      "source": [
        "<a href=\"https://colab.research.google.com/github/alibekk93/NLP_practice/blob/main/GPT_tutorial.ipynb\" target=\"_parent\"><img src=\"https://colab.research.google.com/assets/colab-badge.svg\" alt=\"Open In Colab\"/></a>"
      ]
    },
    {
      "cell_type": "markdown",
      "source": [
        "Andrej Karpathy's GPT tutorial from https://www.youtube.com/watch?v=kCc8FmEb1nY and https://github.com/karpathy/nanoGPT\n",
        "\n",
        "https://karpathy.ai/zero-to-hero.html"
      ],
      "metadata": {
        "id": "8FfY5WjI__cZ"
      }
    },
    {
      "cell_type": "markdown",
      "source": [
        "# Libraries"
      ],
      "metadata": {
        "id": "KOUyNHJWALsQ"
      }
    },
    {
      "cell_type": "code",
      "source": [
        "import torch"
      ],
      "metadata": {
        "id": "E7yhqiUI_--w"
      },
      "execution_count": 11,
      "outputs": []
    },
    {
      "cell_type": "code",
      "source": [],
      "metadata": {
        "id": "BjqPrI2H_-7-"
      },
      "execution_count": null,
      "outputs": []
    },
    {
      "cell_type": "code",
      "source": [],
      "metadata": {
        "id": "mTkSn6gk_-5d"
      },
      "execution_count": null,
      "outputs": []
    },
    {
      "cell_type": "code",
      "source": [],
      "metadata": {
        "id": "PZH4vala_-2p"
      },
      "execution_count": null,
      "outputs": []
    },
    {
      "cell_type": "code",
      "source": [],
      "metadata": {
        "id": "hmT6kGUq_-0J"
      },
      "execution_count": null,
      "outputs": []
    },
    {
      "cell_type": "markdown",
      "source": [
        "# Shakespeare"
      ],
      "metadata": {
        "id": "DQQa2QRAA4nu"
      }
    },
    {
      "cell_type": "markdown",
      "source": [
        "## Setup"
      ],
      "metadata": {
        "id": "UNapvzTSFO_6"
      }
    },
    {
      "cell_type": "code",
      "source": [
        "#@title ##### download data\n",
        "!wget https://raw.githubusercontent.com/karpathy/char-rnn/master/data/tinyshakespeare/input.txt"
      ],
      "metadata": {
        "id": "iVSwyJu_A66T",
        "outputId": "326f8dde-e17a-4c99-aa94-35f382a5ebb5",
        "colab": {
          "base_uri": "https://localhost:8080/"
        }
      },
      "execution_count": 1,
      "outputs": [
        {
          "output_type": "stream",
          "name": "stdout",
          "text": [
            "--2023-02-18 19:45:18--  https://raw.githubusercontent.com/karpathy/char-rnn/master/data/tinyshakespeare/input.txt\n",
            "Resolving raw.githubusercontent.com (raw.githubusercontent.com)... 185.199.108.133, 185.199.109.133, 185.199.110.133, ...\n",
            "Connecting to raw.githubusercontent.com (raw.githubusercontent.com)|185.199.108.133|:443... connected.\n",
            "HTTP request sent, awaiting response... 200 OK\n",
            "Length: 1115394 (1.1M) [text/plain]\n",
            "Saving to: ‘input.txt’\n",
            "\n",
            "\rinput.txt             0%[                    ]       0  --.-KB/s               \rinput.txt           100%[===================>]   1.06M  --.-KB/s    in 0.05s   \n",
            "\n",
            "2023-02-18 19:45:18 (20.6 MB/s) - ‘input.txt’ saved [1115394/1115394]\n",
            "\n"
          ]
        }
      ]
    },
    {
      "cell_type": "code",
      "source": [
        "#@title ##### open file\n",
        "with open('input.txt', 'r', encoding='utf-8') as f:\n",
        "  shakespeareText = f.read()"
      ],
      "metadata": {
        "id": "L5CFINdxEa8_"
      },
      "execution_count": 2,
      "outputs": []
    },
    {
      "cell_type": "code",
      "source": [
        "#@title ##### looking at the data\n",
        "print('Length of dataset in characters:', len(shakespeareText))\n",
        "print(shakespeareText[:200])"
      ],
      "metadata": {
        "id": "zNWnJFxmA7VI",
        "outputId": "588118a4-ea32-4778-b86b-c513eb24fe7a",
        "colab": {
          "base_uri": "https://localhost:8080/"
        }
      },
      "execution_count": 6,
      "outputs": [
        {
          "output_type": "stream",
          "name": "stdout",
          "text": [
            "Length of dataset in characters: 1115394\n",
            "First Citizen:\n",
            "Before we proceed any further, hear me speak.\n",
            "\n",
            "All:\n",
            "Speak, speak.\n",
            "\n",
            "First Citizen:\n",
            "You are all resolved rather to die than to famish?\n",
            "\n",
            "All:\n",
            "Resolved. resolved.\n",
            "\n",
            "First Citizen:\n",
            "First, you\n"
          ]
        }
      ]
    },
    {
      "cell_type": "code",
      "source": [
        "#@title ##### setup character vocab\n",
        "shakespeareChars = sorted(list(set(shakespeareText)))\n",
        "shakespeareVocabSize = len(shakespeareChars)\n",
        "print(''.join(shakespeareChars))\n",
        "print('Vocab size is', shakespeareVocabSize)"
      ],
      "metadata": {
        "id": "tTJvNbzzFgV7",
        "outputId": "f71dc879-dbee-4d89-b3e9-dde941d1bab7",
        "colab": {
          "base_uri": "https://localhost:8080/"
        }
      },
      "execution_count": 7,
      "outputs": [
        {
          "output_type": "stream",
          "name": "stdout",
          "text": [
            "\n",
            " !$&',-.3:;?ABCDEFGHIJKLMNOPQRSTUVWXYZabcdefghijklmnopqrstuvwxyz\n",
            "Vocab size is 65\n"
          ]
        }
      ]
    },
    {
      "cell_type": "code",
      "source": [
        "#@title ##### mapping characters and indices\n",
        "shakespeareStoI = { ch:i for i,ch in enumerate(shakespeareChars) }\n",
        "shakespeareItoS = { i:ch for i,ch in enumerate(shakespeareChars) }\n",
        "shakespeareEncode = lambda s: [shakespeareStoI[c] for c in s]\n",
        "shakespeareDecode = lambda l: ''.join(shakespeareItoS[i] for i in l)\n",
        "\n",
        "print(shakespeareEncode('Shakespeare is cool!'))\n",
        "print(shakespeareDecode(shakespeareEncode('Shakespeare is cool!')))\n",
        "\n",
        "# a more complex tokenizer by Google: https://github.com/google/sentencepiece\n",
        "# a more complex tokenizer by OpenAI: https://github.com/openai/tiktoken"
      ],
      "metadata": {
        "id": "LJ7YM9lNFgTR",
        "outputId": "20bffc87-1efd-4f9a-ca93-d36d1107de26",
        "colab": {
          "base_uri": "https://localhost:8080/"
        }
      },
      "execution_count": 10,
      "outputs": [
        {
          "output_type": "stream",
          "name": "stdout",
          "text": [
            "[31, 46, 39, 49, 43, 57, 54, 43, 39, 56, 43, 1, 47, 57, 1, 41, 53, 53, 50, 2]\n",
            "Shakespeare is cool!\n"
          ]
        }
      ]
    },
    {
      "cell_type": "code",
      "source": [
        "#@title ##### encoding Shakespeare into a tensor\n",
        "data = torch.tensor(shakespeareEncode(shakespeareText), dtype=torch.long)\n",
        "print(data.shape, data.dtype)\n",
        "print(data[:200])"
      ],
      "metadata": {
        "id": "HE_SN3AWIjPj",
        "outputId": "2c73b420-6506-488c-c0c8-ad9776cf8db4",
        "colab": {
          "base_uri": "https://localhost:8080/"
        }
      },
      "execution_count": 12,
      "outputs": [
        {
          "output_type": "stream",
          "name": "stdout",
          "text": [
            "torch.Size([1115394]) torch.int64\n",
            "tensor([18, 47, 56, 57, 58,  1, 15, 47, 58, 47, 64, 43, 52, 10,  0, 14, 43, 44,\n",
            "        53, 56, 43,  1, 61, 43,  1, 54, 56, 53, 41, 43, 43, 42,  1, 39, 52, 63,\n",
            "         1, 44, 59, 56, 58, 46, 43, 56,  6,  1, 46, 43, 39, 56,  1, 51, 43,  1,\n",
            "        57, 54, 43, 39, 49,  8,  0,  0, 13, 50, 50, 10,  0, 31, 54, 43, 39, 49,\n",
            "         6,  1, 57, 54, 43, 39, 49,  8,  0,  0, 18, 47, 56, 57, 58,  1, 15, 47,\n",
            "        58, 47, 64, 43, 52, 10,  0, 37, 53, 59,  1, 39, 56, 43,  1, 39, 50, 50,\n",
            "         1, 56, 43, 57, 53, 50, 60, 43, 42,  1, 56, 39, 58, 46, 43, 56,  1, 58,\n",
            "        53,  1, 42, 47, 43,  1, 58, 46, 39, 52,  1, 58, 53,  1, 44, 39, 51, 47,\n",
            "        57, 46, 12,  0,  0, 13, 50, 50, 10,  0, 30, 43, 57, 53, 50, 60, 43, 42,\n",
            "         8,  1, 56, 43, 57, 53, 50, 60, 43, 42,  8,  0,  0, 18, 47, 56, 57, 58,\n",
            "         1, 15, 47, 58, 47, 64, 43, 52, 10,  0, 18, 47, 56, 57, 58,  6,  1, 63,\n",
            "        53, 59])\n"
          ]
        }
      ]
    },
    {
      "cell_type": "code",
      "source": [
        "#@title ##### splitting train and validation sets\n",
        "n = int(0.1*len(data))\n",
        "train_data = data[n:]\n",
        "val_data = data[:n]"
      ],
      "metadata": {
        "id": "HAGX0JTBJaVv"
      },
      "execution_count": 13,
      "outputs": []
    },
    {
      "cell_type": "markdown",
      "source": [
        "## Modelling"
      ],
      "metadata": {
        "id": "3s5nMFHQIcwM"
      }
    },
    {
      "cell_type": "code",
      "source": [
        "#@title ##### \n",
        "\n",
        "\n"
      ],
      "metadata": {
        "id": "VmCU-JjDA7SR"
      },
      "execution_count": null,
      "outputs": []
    },
    {
      "cell_type": "code",
      "source": [],
      "metadata": {
        "id": "T8oPrpG9A7Pn"
      },
      "execution_count": null,
      "outputs": []
    }
  ],
  "metadata": {
    "colab": {
      "name": "Welcome to Colaboratory",
      "provenance": [],
      "include_colab_link": true
    },
    "kernelspec": {
      "display_name": "Python 3",
      "name": "python3"
    }
  },
  "nbformat": 4,
  "nbformat_minor": 0
}