{
  "cells": [
    {
      "cell_type": "markdown",
      "metadata": {
        "id": "view-in-github",
        "colab_type": "text"
      },
      "source": [
        "<a href=\"https://colab.research.google.com/github/alibekk93/NLP_practice/blob/main/Micrograd_tutorial.ipynb\" target=\"_parent\"><img src=\"https://colab.research.google.com/assets/colab-badge.svg\" alt=\"Open In Colab\"/></a>"
      ]
    },
    {
      "cell_type": "markdown",
      "source": [
        "Andrej Karpathy's Makemore-1 tutorial from https://www.youtube.com/watch?v=PaCmpygFfXo and https://github.com/karpathy/nn-zero-to-hero/tree/master/lectures/makemore\n",
        "\n",
        "https://karpathy.ai/zero-to-hero.html"
      ],
      "metadata": {
        "id": "8FfY5WjI__cZ"
      }
    },
    {
      "cell_type": "markdown",
      "source": [
        "# Libraries"
      ],
      "metadata": {
        "id": "KOUyNHJWALsQ"
      }
    },
    {
      "cell_type": "code",
      "source": [
        "from tqdm import tqdm\n",
        "# import torch\n",
        "# import torch.nn as nn\n",
        "# from torch.nn import functional as F\n",
        "# torch.manual_seed(1993)"
      ],
      "metadata": {
        "id": "E7yhqiUI_--w",
        "outputId": "035f9765-f7d4-46d3-9fcb-fe746df7ecc8",
        "colab": {
          "base_uri": "https://localhost:8080/"
        }
      },
      "execution_count": null,
      "outputs": [
        {
          "output_type": "execute_result",
          "data": {
            "text/plain": [
              "<torch._C.Generator at 0x7fd23433e2d0>"
            ]
          },
          "metadata": {},
          "execution_count": 39
        }
      ]
    },
    {
      "cell_type": "code",
      "source": [],
      "metadata": {
        "id": "BjqPrI2H_-7-"
      },
      "execution_count": null,
      "outputs": []
    },
    {
      "cell_type": "code",
      "source": [],
      "metadata": {
        "id": "mTkSn6gk_-5d"
      },
      "execution_count": null,
      "outputs": []
    },
    {
      "cell_type": "code",
      "source": [],
      "metadata": {
        "id": "PZH4vala_-2p"
      },
      "execution_count": null,
      "outputs": []
    },
    {
      "cell_type": "code",
      "source": [],
      "metadata": {
        "id": "hmT6kGUq_-0J"
      },
      "execution_count": null,
      "outputs": []
    },
    {
      "cell_type": "markdown",
      "source": [
        "# Shakespeare"
      ],
      "metadata": {
        "id": "DQQa2QRAA4nu"
      }
    },
    {
      "cell_type": "markdown",
      "source": [
        "## Setup"
      ],
      "metadata": {
        "id": "UNapvzTSFO_6"
      }
    },
    {
      "cell_type": "code",
      "source": [
        "#@title ##### download data\n",
        "!wget https://raw.githubusercontent.com/karpathy/char-rnn/master/data/tinyshakespeare/input.txt"
      ],
      "metadata": {
        "id": "iVSwyJu_A66T"
      },
      "execution_count": null,
      "outputs": []
    },
    {
      "cell_type": "code",
      "source": [
        "#@title ##### open file\n",
        "with open('input.txt', 'r', encoding='utf-8') as f:\n",
        "  shakespeareText = f.read()"
      ],
      "metadata": {
        "id": "L5CFINdxEa8_"
      },
      "execution_count": null,
      "outputs": []
    },
    {
      "cell_type": "code",
      "source": [
        "#@title ##### looking at the data\n",
        "print('Length of dataset in characters:', len(shakespeareText))\n",
        "print(shakespeareText[:200])"
      ],
      "metadata": {
        "id": "zNWnJFxmA7VI",
        "outputId": "61a9dca8-e7e2-49cf-dfed-f3cc4223d296",
        "colab": {
          "base_uri": "https://localhost:8080/"
        }
      },
      "execution_count": null,
      "outputs": [
        {
          "output_type": "stream",
          "name": "stdout",
          "text": [
            "Length of dataset in characters: 1115394\n",
            "First Citizen:\n",
            "Before we proceed any further, hear me speak.\n",
            "\n",
            "All:\n",
            "Speak, speak.\n",
            "\n",
            "First Citizen:\n",
            "You are all resolved rather to die than to famish?\n",
            "\n",
            "All:\n",
            "Resolved. resolved.\n",
            "\n",
            "First Citizen:\n",
            "First, you\n"
          ]
        }
      ]
    },
    {
      "cell_type": "code",
      "source": [
        "#@title ##### setup character vocab\n",
        "shakespeareChars = sorted(list(set(shakespeareText)))\n",
        "shakespeareVocabSize = len(shakespeareChars)\n",
        "print(''.join(shakespeareChars))\n",
        "print('Vocab size is', shakespeareVocabSize)"
      ],
      "metadata": {
        "id": "tTJvNbzzFgV7",
        "outputId": "6d807842-b250-4e6d-bec3-cc87fdc4846e",
        "colab": {
          "base_uri": "https://localhost:8080/"
        }
      },
      "execution_count": null,
      "outputs": [
        {
          "output_type": "stream",
          "name": "stdout",
          "text": [
            "\n",
            " !$&',-.3:;?ABCDEFGHIJKLMNOPQRSTUVWXYZabcdefghijklmnopqrstuvwxyz\n",
            "Vocab size is 65\n"
          ]
        }
      ]
    },
    {
      "cell_type": "code",
      "source": [
        "#@title ##### mapping characters and indices\n",
        "shakespeareStoI = { ch:i for i,ch in enumerate(shakespeareChars) }\n",
        "shakespeareItoS = { i:ch for i,ch in enumerate(shakespeareChars) }\n",
        "shakespeareEncode = lambda s: [shakespeareStoI[c] for c in s]\n",
        "shakespeareDecode = lambda l: ''.join(shakespeareItoS[i] for i in l)\n",
        "\n",
        "print(shakespeareEncode('Shakespeare is cool!'))\n",
        "print(shakespeareDecode(shakespeareEncode('Shakespeare is cool!')))\n",
        "\n",
        "# a more complex tokenizer by Google: https://github.com/google/sentencepiece\n",
        "# a more complex tokenizer by OpenAI: https://github.com/openai/tiktoken"
      ],
      "metadata": {
        "id": "LJ7YM9lNFgTR",
        "outputId": "8a7a63de-eb7f-48d2-8a6f-2c603aba0928",
        "colab": {
          "base_uri": "https://localhost:8080/"
        }
      },
      "execution_count": null,
      "outputs": [
        {
          "output_type": "stream",
          "name": "stdout",
          "text": [
            "[31, 46, 39, 49, 43, 57, 54, 43, 39, 56, 43, 1, 47, 57, 1, 41, 53, 53, 50, 2]\n",
            "Shakespeare is cool!\n"
          ]
        }
      ]
    },
    {
      "cell_type": "code",
      "source": [
        "#@title ##### encoding Shakespeare into a tensor\n",
        "data = torch.tensor(shakespeareEncode(shakespeareText), dtype=torch.long)\n",
        "print(data.shape, data.dtype)\n",
        "print(data[:200])"
      ],
      "metadata": {
        "id": "HE_SN3AWIjPj",
        "outputId": "70a9888e-d2d3-4b41-a5ff-0c9325d0b472",
        "colab": {
          "base_uri": "https://localhost:8080/"
        }
      },
      "execution_count": null,
      "outputs": [
        {
          "output_type": "stream",
          "name": "stdout",
          "text": [
            "torch.Size([1115394]) torch.int64\n",
            "tensor([18, 47, 56, 57, 58,  1, 15, 47, 58, 47, 64, 43, 52, 10,  0, 14, 43, 44,\n",
            "        53, 56, 43,  1, 61, 43,  1, 54, 56, 53, 41, 43, 43, 42,  1, 39, 52, 63,\n",
            "         1, 44, 59, 56, 58, 46, 43, 56,  6,  1, 46, 43, 39, 56,  1, 51, 43,  1,\n",
            "        57, 54, 43, 39, 49,  8,  0,  0, 13, 50, 50, 10,  0, 31, 54, 43, 39, 49,\n",
            "         6,  1, 57, 54, 43, 39, 49,  8,  0,  0, 18, 47, 56, 57, 58,  1, 15, 47,\n",
            "        58, 47, 64, 43, 52, 10,  0, 37, 53, 59,  1, 39, 56, 43,  1, 39, 50, 50,\n",
            "         1, 56, 43, 57, 53, 50, 60, 43, 42,  1, 56, 39, 58, 46, 43, 56,  1, 58,\n",
            "        53,  1, 42, 47, 43,  1, 58, 46, 39, 52,  1, 58, 53,  1, 44, 39, 51, 47,\n",
            "        57, 46, 12,  0,  0, 13, 50, 50, 10,  0, 30, 43, 57, 53, 50, 60, 43, 42,\n",
            "         8,  1, 56, 43, 57, 53, 50, 60, 43, 42,  8,  0,  0, 18, 47, 56, 57, 58,\n",
            "         1, 15, 47, 58, 47, 64, 43, 52, 10,  0, 18, 47, 56, 57, 58,  6,  1, 63,\n",
            "        53, 59])\n"
          ]
        }
      ]
    },
    {
      "cell_type": "code",
      "source": [
        "#@title ##### splitting train and validation sets\n",
        "n = int(0.1*len(data))\n",
        "train_data = data[n:]\n",
        "val_data = data[:n]"
      ],
      "metadata": {
        "id": "HAGX0JTBJaVv"
      },
      "execution_count": null,
      "outputs": []
    },
    {
      "cell_type": "markdown",
      "source": [
        "## Data loader"
      ],
      "metadata": {
        "id": "3s5nMFHQIcwM"
      }
    },
    {
      "cell_type": "code",
      "source": [
        "#@title ##### setting up batch parameters\n",
        "batch_size = 4 # number of parallel processes\n",
        "block_size = 8 # maximum context length"
      ],
      "metadata": {
        "id": "HMjmBvSDXdaP"
      },
      "execution_count": null,
      "outputs": []
    },
    {
      "cell_type": "code",
      "source": [
        "#@title ##### function to get a batch\n",
        "def get_batch(validation=False):\n",
        "  # generates a small batch of data of inputs x and targets y\n",
        "  data = val_data if validation else train_data\n",
        "  ix = torch.randint(len(data) - block_size, (batch_size,))\n",
        "  x = torch.stack([data[i:i+block_size] for i in ix])\n",
        "  y = torch.stack([data[i+1:i+block_size+1] for i in ix])\n",
        "  return x, y"
      ],
      "metadata": {
        "id": "VmCU-JjDA7SR"
      },
      "execution_count": null,
      "outputs": []
    },
    {
      "cell_type": "code",
      "source": [
        "#@title ##### example: getting a batch\n",
        "xb, yb = get_batch()\n",
        "print('inputs:')\n",
        "print(xb.shape)\n",
        "print(xb)\n",
        "print('targets:')\n",
        "print(yb.shape)\n",
        "print(yb)\n",
        "\n",
        "print('----')\n",
        "\n",
        "for b in range(batch_size):\n",
        "  for t in range(block_size):\n",
        "    context = xb[b, :t+1]\n",
        "    target = yb[b, t]\n",
        "    print(f'when input is {context.tolist()} the target is {target}')"
      ],
      "metadata": {
        "id": "T8oPrpG9A7Pn",
        "outputId": "505e3fc8-3762-46d0-b2e8-c2c9cec27312",
        "colab": {
          "base_uri": "https://localhost:8080/"
        }
      },
      "execution_count": null,
      "outputs": [
        {
          "output_type": "stream",
          "name": "stdout",
          "text": [
            "inputs:\n",
            "torch.Size([4, 8])\n",
            "tensor([[41, 53, 51, 51, 39, 52, 42, 43],\n",
            "        [57, 41, 53, 56, 43,  1, 51, 43],\n",
            "        [58,  1, 63, 53, 59, 56,  1, 47],\n",
            "        [50, 53, 59, 56,  8,  1, 35, 46]])\n",
            "targets:\n",
            "torch.Size([4, 8])\n",
            "tensor([[53, 51, 51, 39, 52, 42, 43, 42],\n",
            "        [41, 53, 56, 43,  1, 51, 43,  1],\n",
            "        [ 1, 63, 53, 59, 56,  1, 47, 52],\n",
            "        [53, 59, 56,  8,  1, 35, 46, 39]])\n",
            "----\n",
            "when input is [41] the target is 53\n",
            "when input is [41, 53] the target is 51\n",
            "when input is [41, 53, 51] the target is 51\n",
            "when input is [41, 53, 51, 51] the target is 39\n",
            "when input is [41, 53, 51, 51, 39] the target is 52\n",
            "when input is [41, 53, 51, 51, 39, 52] the target is 42\n",
            "when input is [41, 53, 51, 51, 39, 52, 42] the target is 43\n",
            "when input is [41, 53, 51, 51, 39, 52, 42, 43] the target is 42\n",
            "when input is [57] the target is 41\n",
            "when input is [57, 41] the target is 53\n",
            "when input is [57, 41, 53] the target is 56\n",
            "when input is [57, 41, 53, 56] the target is 43\n",
            "when input is [57, 41, 53, 56, 43] the target is 1\n",
            "when input is [57, 41, 53, 56, 43, 1] the target is 51\n",
            "when input is [57, 41, 53, 56, 43, 1, 51] the target is 43\n",
            "when input is [57, 41, 53, 56, 43, 1, 51, 43] the target is 1\n",
            "when input is [58] the target is 1\n",
            "when input is [58, 1] the target is 63\n",
            "when input is [58, 1, 63] the target is 53\n",
            "when input is [58, 1, 63, 53] the target is 59\n",
            "when input is [58, 1, 63, 53, 59] the target is 56\n",
            "when input is [58, 1, 63, 53, 59, 56] the target is 1\n",
            "when input is [58, 1, 63, 53, 59, 56, 1] the target is 47\n",
            "when input is [58, 1, 63, 53, 59, 56, 1, 47] the target is 52\n",
            "when input is [50] the target is 53\n",
            "when input is [50, 53] the target is 59\n",
            "when input is [50, 53, 59] the target is 56\n",
            "when input is [50, 53, 59, 56] the target is 8\n",
            "when input is [50, 53, 59, 56, 8] the target is 1\n",
            "when input is [50, 53, 59, 56, 8, 1] the target is 35\n",
            "when input is [50, 53, 59, 56, 8, 1, 35] the target is 46\n",
            "when input is [50, 53, 59, 56, 8, 1, 35, 46] the target is 39\n"
          ]
        }
      ]
    },
    {
      "cell_type": "markdown",
      "source": [
        "## Modelling"
      ],
      "metadata": {
        "id": "FxsgF3vncp96"
      }
    },
    {
      "cell_type": "markdown",
      "source": [
        "### Bigram"
      ],
      "metadata": {
        "id": "641GBZDxcsZY"
      }
    },
    {
      "cell_type": "code",
      "source": [
        "#@ ##### class for Bigram Language Model\n",
        "class BigramLanguageModel(nn.Module):\n",
        "  \n",
        "  def __init__(self, vocab_size):\n",
        "    super().__init__()\n",
        "    # each token directly reads off the logits for the next token from a lookup table\n",
        "    self.token_embedding_table = nn.Embedding(vocab_size, vocab_size)\n",
        "  \n",
        "  def forward(self, idx, targets=None):\n",
        "    # idx and targets are both (B,T) tensor of integers\n",
        "    logits = self.token_embedding_table(idx) # (B,T,C)\n",
        "    if targets == None:\n",
        "      loss = None\n",
        "    else:\n",
        "      # fixing the (B,T,C) <=> (B,C,T) issue\n",
        "      B, T, C = logits.shape\n",
        "      logits = logits.view(B*T, C)\n",
        "      targets = targets.view(B*T)\n",
        "      # evaluate loss\n",
        "      loss = F.cross_entropy(logits, targets)\n",
        "    return logits, loss\n",
        "\n",
        "  def generate(self, idx, max_new_tokens):\n",
        "    # idx is (B,T) array of indices in the current context\n",
        "    for _ in range(max_new_tokens):\n",
        "      # predict\n",
        "      logits, loss = self(idx)\n",
        "      # focus on last time step\n",
        "      logits = logits[:,-1,:]\n",
        "      # get probabilities using softmax\n",
        "      probs = F.softmax(logits, dim=-1)\n",
        "      # sample from distribution\n",
        "      idx_next = torch.multinomial(probs, num_samples=1)\n",
        "      # append sample to the running sequence\n",
        "      idx = torch.cat((idx, idx_next), dim=1)\n",
        "    return idx"
      ],
      "metadata": {
        "id": "G-a2I8cwaZnc"
      },
      "execution_count": null,
      "outputs": []
    },
    {
      "cell_type": "code",
      "source": [
        "#@title ##### example: initializing up a Bigram model\n",
        "m_bigram = BigramLanguageModel(shakespeareVocabSize)\n",
        "logits, loss = m_bigram(xb, yb)\n",
        "print(logits.shape)\n",
        "print(loss)\n",
        "# set initial idx as a new line\n",
        "idx = torch.zeros((1,1), dtype=torch.long)\n",
        "print(shakespeareDecode(m_bigram.generate(idx, max_new_tokens=100)[0].tolist()))"
      ],
      "metadata": {
        "id": "yFQZi3PAaZk0",
        "outputId": "d1ce6330-a6aa-4acb-83a6-82adde9c98cc",
        "colab": {
          "base_uri": "https://localhost:8080/"
        }
      },
      "execution_count": null,
      "outputs": [
        {
          "output_type": "stream",
          "name": "stdout",
          "text": [
            "torch.Size([32, 65])\n",
            "tensor(4.8409, grad_fn=<NllLossBackward0>)\n",
            "\n",
            "h?pLpEVk!3VauGxoDWjF$plVZ,\n",
            "d'?NqeYo,d\n",
            "dOOKymbA3d aDMzgsk$sTkOWQ,dTipQN:muGtK!G&I.jJ3N;.3vFhRKiS!Kx J\n"
          ]
        }
      ]
    },
    {
      "cell_type": "code",
      "source": [
        "#@title ##### creating a PyTorch optimizer\n",
        "optimizer = torch.optim.AdamW(m_bigram.parameters(), lr=1e-3)"
      ],
      "metadata": {
        "cellView": "form",
        "id": "HjjbHlrUaZh4"
      },
      "execution_count": null,
      "outputs": []
    },
    {
      "cell_type": "code",
      "source": [
        "#@title ##### training the model\n",
        "batch_size = 32\n",
        "for steps in tqdm(range(20000)):\n",
        "  # sample a batch\n",
        "  xb, yb = get_batch()\n",
        "  # evaluate loss\n",
        "  logits, loss = m_bigram(xb, yb)\n",
        "  optimizer.zero_grad(set_to_none=True)\n",
        "  loss.backward()\n",
        "  optimizer.step()\n",
        "\n",
        "print()\n",
        "print(loss.item())"
      ],
      "metadata": {
        "id": "unQj3iGEpg-y",
        "outputId": "4b03dcc2-4db2-4286-9c87-3946d2513c10",
        "colab": {
          "base_uri": "https://localhost:8080/"
        }
      },
      "execution_count": null,
      "outputs": [
        {
          "output_type": "stream",
          "name": "stderr",
          "text": [
            "100%|██████████| 20000/20000 [00:38<00:00, 526.01it/s]"
          ]
        },
        {
          "output_type": "stream",
          "name": "stdout",
          "text": [
            "2.432394504547119\n"
          ]
        },
        {
          "output_type": "stream",
          "name": "stderr",
          "text": [
            "\n"
          ]
        }
      ]
    },
    {
      "cell_type": "code",
      "source": [
        "print(shakespeareDecode(m_bigram.generate(idx, max_new_tokens=100)[0].tolist()))"
      ],
      "metadata": {
        "id": "UPCc6x2xpg8N",
        "outputId": "17ee77ce-8d5c-4bd4-9843-eb0f002fada5",
        "colab": {
          "base_uri": "https://localhost:8080/"
        }
      },
      "execution_count": null,
      "outputs": [
        {
          "output_type": "stream",
          "name": "stdout",
          "text": [
            "\n",
            "Thin moteffodyourare br hat ticis I o; burishayf Wh ait\n",
            "ARCOu He-t be me r giond nd th o t OFirarmif\n"
          ]
        }
      ]
    },
    {
      "cell_type": "code",
      "source": [],
      "metadata": {
        "id": "vxrRRFZwpg5r"
      },
      "execution_count": null,
      "outputs": []
    },
    {
      "cell_type": "code",
      "source": [],
      "metadata": {
        "id": "jZTy4KmQaZfR"
      },
      "execution_count": null,
      "outputs": []
    }
  ],
  "metadata": {
    "colab": {
      "name": "Welcome to Colaboratory",
      "provenance": [],
      "include_colab_link": true
    },
    "kernelspec": {
      "display_name": "Python 3",
      "name": "python3"
    }
  },
  "nbformat": 4,
  "nbformat_minor": 0
}