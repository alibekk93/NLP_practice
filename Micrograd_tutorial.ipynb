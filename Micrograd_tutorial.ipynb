{
  "cells": [
    {
      "cell_type": "markdown",
      "metadata": {
        "id": "view-in-github",
        "colab_type": "text"
      },
      "source": [
        "<a href=\"https://colab.research.google.com/github/alibekk93/NLP_practice/blob/main/Micrograd_tutorial.ipynb\" target=\"_parent\"><img src=\"https://colab.research.google.com/assets/colab-badge.svg\" alt=\"Open In Colab\"/></a>"
      ]
    },
    {
      "cell_type": "markdown",
      "source": [
        "Andrej Karpathy's Micrograd tutorial from https://www.youtube.com/watch?v=VMj-3S1tku0 and https://github.com/karpathy/nn-zero-to-hero/tree/master/lectures/micrograd\n",
        "\n",
        "https://karpathy.ai/zero-to-hero.html"
      ],
      "metadata": {
        "id": "8FfY5WjI__cZ"
      }
    },
    {
      "cell_type": "code",
      "source": [
        "from tqdm import tqdm\n",
        "import math\n",
        "import numpy as np\n",
        "import matplotlib.pyplot as plt\n",
        "%matplotlib inline\n",
        "\n",
        "from graphviz import Digraph"
      ],
      "metadata": {
        "id": "E7yhqiUI_--w"
      },
      "execution_count": 11,
      "outputs": []
    },
    {
      "cell_type": "markdown",
      "source": [
        "# Derivatives intuition"
      ],
      "metadata": {
        "id": "aBY_5LGIjXd7"
      }
    },
    {
      "cell_type": "markdown",
      "source": [
        "## Simple function"
      ],
      "metadata": {
        "id": "N4hwn24u1caR"
      }
    },
    {
      "cell_type": "code",
      "source": [
        "def f(x):\n",
        "  return 3*x**2 - 4*x + 5"
      ],
      "metadata": {
        "id": "knXG0OoGizi3"
      },
      "execution_count": 12,
      "outputs": []
    },
    {
      "cell_type": "code",
      "source": [
        "xs = np.arange(-5, 5, 0.25)\n",
        "yx = f(xs)\n",
        "plt.plot(xs, yx)"
      ],
      "metadata": {
        "colab": {
          "base_uri": "https://localhost:8080/",
          "height": 282
        },
        "id": "B_IQ9_Xxizdn",
        "outputId": "0ec3d81c-4a8c-4753-d29f-cd32972dd50d"
      },
      "execution_count": 13,
      "outputs": [
        {
          "output_type": "execute_result",
          "data": {
            "text/plain": [
              "[<matplotlib.lines.Line2D at 0x7f1da0e2b5b0>]"
            ]
          },
          "metadata": {},
          "execution_count": 13
        },
        {
          "output_type": "display_data",
          "data": {
            "text/plain": [
              "<Figure size 432x288 with 1 Axes>"
            ],
            "image/png": "[encoded data removed]"
          },
          "metadata": {
            "needs_background": "light"
          }
        }
      ]
    },
    {
      "cell_type": "code",
      "source": [
        "h = 1e-10\n",
        "x = -3\n",
        "(f(x + h) - f(x))/h"
      ],
      "metadata": {
        "colab": {
          "base_uri": "https://localhost:8080/"
        },
        "id": "C_0TiQDCiza-",
        "outputId": "9d0c09bd-c55c-4ac2-e6be-8794b8b1331e"
      },
      "execution_count": 14,
      "outputs": [
        {
          "output_type": "execute_result",
          "data": {
            "text/plain": [
              "-21.999966293151374"
            ]
          },
          "metadata": {},
          "execution_count": 14
        }
      ]
    },
    {
      "cell_type": "markdown",
      "source": [
        "## A more complex function"
      ],
      "metadata": {
        "id": "nzCIqLhBy_vu"
      }
    },
    {
      "cell_type": "code",
      "source": [
        "def f(a, b, c):\n",
        "  return a*b + c"
      ],
      "metadata": {
        "id": "5AEFefTuzAEt"
      },
      "execution_count": 15,
      "outputs": []
    },
    {
      "cell_type": "code",
      "source": [
        "a = 2\n",
        "b = -3\n",
        "c = 10\n",
        "d = f(a, b, c)\n",
        "d"
      ],
      "metadata": {
        "id": "ZmS6HuPFzAmv",
        "outputId": "82a9c585-3792-4ad2-f7f0-00d595ffe28d",
        "colab": {
          "base_uri": "https://localhost:8080/"
        }
      },
      "execution_count": 16,
      "outputs": [
        {
          "output_type": "execute_result",
          "data": {
            "text/plain": [
              "4"
            ]
          },
          "metadata": {},
          "execution_count": 16
        }
      ]
    },
    {
      "cell_type": "code",
      "source": [
        "h = 1e-10\n",
        "\n",
        "a = 2\n",
        "b = -3\n",
        "c = 10\n",
        "\n",
        "d1 = f(a, b, c)\n",
        "# derivative with respect to a\n",
        "d2 = f(a + h, b, c)\n",
        "\n",
        "print('A')\n",
        "print(f'd1 = {d1}')\n",
        "print(f'd2 = {d2}')\n",
        "print(f'slope = {(d2 - d1)/h}')\n",
        "print('---')\n",
        "\n",
        "# derivative with respect to b\n",
        "d2 = f(a, b + h, c)\n",
        "\n",
        "print('B')\n",
        "print(f'd1 = {d1}')\n",
        "print(f'd2 = {d2}')\n",
        "print(f'slope = {(d2 - d1)/h}')\n",
        "print('---')\n",
        "\n",
        "# derivative with respect to c\n",
        "d2 = f(a, b, c + h)\n",
        "\n",
        "print('C')\n",
        "print(f'd1 = {d1}')\n",
        "print(f'd2 = {d2}')\n",
        "print(f'slope = {(d2 - d1)/h}')"
      ],
      "metadata": {
        "id": "jto42vEKzAhY",
        "outputId": "77d3792f-5884-4db0-9a45-afddec6a01e9",
        "colab": {
          "base_uri": "https://localhost:8080/"
        }
      },
      "execution_count": 17,
      "outputs": [
        {
          "output_type": "stream",
          "name": "stdout",
          "text": [
            "A\n",
            "d1 = 4\n",
            "d2 = 3.9999999997\n",
            "slope = -3.000000248221113\n",
            "---\n",
            "B\n",
            "d1 = 4\n",
            "d2 = 4.0000000002\n",
            "slope = 2.000000165480742\n",
            "---\n",
            "C\n",
            "d1 = 4\n",
            "d2 = 4.0000000001\n",
            "slope = 1.000000082740371\n"
          ]
        }
      ]
    },
    {
      "cell_type": "markdown",
      "source": [
        "# Backpropagation"
      ],
      "metadata": {
        "id": "YpBVuoAh1fb-"
      }
    },
    {
      "cell_type": "code",
      "source": [
        "class Value:\n",
        "  \n",
        "  def __init__(self, data, _children=(), _op='', label=''):\n",
        "    self.data = data\n",
        "    self.grad = 0.0\n",
        "    self._backward = lambda: None\n",
        "    self._prev = set(_children)\n",
        "    self._op = _op\n",
        "    self.label = label\n",
        "\n",
        "  def __repr__(self):\n",
        "    return f\"Value(data={self.data})\"\n",
        "  \n",
        "  def __add__(self, other):\n",
        "    other = other if isinstance(other, Value) else Value(other)\n",
        "    out = Value(self.data + other.data, (self, other), '+')\n",
        "    \n",
        "    def _backward():\n",
        "      self.grad += 1.0 * out.grad\n",
        "      other.grad += 1.0 * out.grad\n",
        "    out._backward = _backward\n",
        "    \n",
        "    return out\n",
        "\n",
        "  def __mul__(self, other):\n",
        "    other = other if isinstance(other, Value) else Value(other)\n",
        "    out = Value(self.data * other.data, (self, other), '*')\n",
        "    \n",
        "    def _backward():\n",
        "      self.grad += other.data * out.grad\n",
        "      other.grad += self.data * out.grad\n",
        "    out._backward = _backward\n",
        "      \n",
        "    return out\n",
        "  \n",
        "  def __pow__(self, other):\n",
        "    assert isinstance(other, (int, float)), \"only supporting int/float powers for now\"\n",
        "    out = Value(self.data**other, (self,), f'**{other}')\n",
        "\n",
        "    def _backward():\n",
        "        self.grad += other * (self.data ** (other - 1)) * out.grad\n",
        "    out._backward = _backward\n",
        "\n",
        "    return out\n",
        "  \n",
        "  def __rmul__(self, other): # other * self\n",
        "    return self * other\n",
        "\n",
        "  def __truediv__(self, other): # self / other\n",
        "    return self * other**-1\n",
        "\n",
        "  def __neg__(self): # -self\n",
        "    return self * -1\n",
        "\n",
        "  def __sub__(self, other): # self - other\n",
        "    return self + (-other)\n",
        "\n",
        "  def __radd__(self, other): # other + self\n",
        "    return self + other\n",
        "\n",
        "  def tanh(self):\n",
        "    x = self.data\n",
        "    t = (math.exp(2*x) - 1)/(math.exp(2*x) + 1)\n",
        "    out = Value(t, (self, ), 'tanh')\n",
        "    \n",
        "    def _backward():\n",
        "      self.grad += (1 - t**2) * out.grad\n",
        "    out._backward = _backward\n",
        "    \n",
        "    return out\n",
        "  \n",
        "  def exp(self):\n",
        "    x = self.data\n",
        "    out = Value(math.exp(x), (self, ), 'exp')\n",
        "    \n",
        "    def _backward():\n",
        "      self.grad += out.data * out.grad # NOTE: in the video I incorrectly used = instead of +=. Fixed here.\n",
        "    out._backward = _backward\n",
        "    \n",
        "    return out\n",
        "  \n",
        "  \n",
        "  def backward(self):\n",
        "    \n",
        "    topo = []\n",
        "    visited = set()\n",
        "    def build_topo(v):\n",
        "      if v not in visited:\n",
        "        visited.add(v)\n",
        "        for child in v._prev:\n",
        "          build_topo(child)\n",
        "        topo.append(v)\n",
        "    build_topo(self)\n",
        "    \n",
        "    self.grad = 1.0\n",
        "    for node in reversed(topo):\n",
        "      node._backward()"
      ],
      "metadata": {
        "id": "LdEFoBcrzAcb"
      },
      "execution_count": 18,
      "outputs": []
    },
    {
      "cell_type": "code",
      "source": [
        "a = Value(2, label='a')\n",
        "b = Value(-3, label='b')\n",
        "c = Value(10, label='c')\n",
        "e = a*b; e.label = 'e'\n",
        "d = e + c; d.label = 'd'\n",
        "f = Value(-2, label='f')\n",
        "L = d*f; L.label = 'L'\n",
        "print(d, d.label)\n",
        "print(d._prev)\n",
        "print(d._op)"
      ],
      "metadata": {
        "colab": {
          "base_uri": "https://localhost:8080/"
        },
        "id": "2bpbLiWbFb8o",
        "outputId": "5e9f5840-ff32-4111-e06b-81357953f56e"
      },
      "execution_count": 19,
      "outputs": [
        {
          "output_type": "stream",
          "name": "stdout",
          "text": [
            "Value(data=4) d\n",
            "{Value(data=-6), Value(data=10)}\n",
            "+\n"
          ]
        }
      ]
    },
    {
      "cell_type": "code",
      "source": [
        "#@title ##### This code is for visualization and was copy-pasted\n",
        "\n",
        "def trace(root):\n",
        "  # builds a set of all nodes and edges in a graph\n",
        "  nodes, edges = set(), set()\n",
        "  def build(v):\n",
        "    if v not in nodes:\n",
        "      nodes.add(v)\n",
        "      for child in v._prev:\n",
        "        edges.add((child, v))\n",
        "        build(child)\n",
        "  build(root)\n",
        "  return nodes, edges\n",
        "\n",
        "def draw_dot(root):\n",
        "  dot = Digraph(format='svg', graph_attr={'rankdir': 'LR'}) # LR = left to right\n",
        "  \n",
        "  nodes, edges = trace(root)\n",
        "  for n in nodes:\n",
        "    uid = str(id(n))\n",
        "    # for any value in the graph, create a rectangular ('record') node for it\n",
        "    dot.node(name = uid, label = \"{ %s | data %.4f | grad %.4f }\" % (n.label, n.data, n.grad), shape='record')\n",
        "    if n._op:\n",
        "      # if this value is a result of some operation, create an op node for it\n",
        "      dot.node(name = uid + n._op, label = n._op)\n",
        "      # and connect this node to it\n",
        "      dot.edge(uid + n._op, uid)\n",
        "\n",
        "  for n1, n2 in edges:\n",
        "    # connect n1 to the op node of n2\n",
        "    dot.edge(str(id(n1)), str(id(n2)) + n2._op)\n",
        "\n",
        "  return dot"
      ],
      "metadata": {
        "id": "Ql2YXAP93xxD"
      },
      "execution_count": 20,
      "outputs": []
    },
    {
      "cell_type": "markdown",
      "source": [
        "## Simple NN-like structure"
      ],
      "metadata": {
        "id": "vBOeptaTMLDw"
      }
    },
    {
      "cell_type": "code",
      "source": [
        "L.grad = 1 # dL/dL = 1\n",
        "f.grad = d.data # L = d*f; dL/df = d\n",
        "d.grad = f.data # L = d*f; dL/dd = f\n",
        "e_local_grad = 1 # d = e + c; dd/de = 1\n",
        "c_local_grad = 1 # d = e + c; dd/dc = 1\n",
        "# chain rule: dL/de = (dL/dd)*(dd/de)\n",
        "e.grad = e_local_grad*d.grad\n",
        "c.grad = c_local_grad*d.grad\n",
        "a.grad = b.data*e.grad # e = a*b; de/da = b; dL/da = (dL/de)*(de/da)\n",
        "b.grad = a.data*e.grad # e = a*b; de/db = a; dL/db = (dL/de)*(de/db)"
      ],
      "metadata": {
        "id": "RknXad117g9D"
      },
      "execution_count": 21,
      "outputs": []
    },
    {
      "cell_type": "code",
      "source": [
        "draw_dot(L)"
      ],
      "metadata": {
        "id": "DVWnXHu03xu2",
        "outputId": "7bb1ab41-3701-43e9-8f22-2ad530c187e6",
        "colab": {
          "base_uri": "https://localhost:8080/",
          "height": 249
        }
      },
      "execution_count": 22,
      "outputs": [
        {
          "output_type": "execute_result",
          "data": {
            "image/svg+xml": "<?xml version=\"1.0\" encoding=\"UTF-8\" standalone=\"no\"?>\n<!DOCTYPE svg PUBLIC \"-//W3C//DTD SVG 1.1//EN\"\n \"http://www.w3.org/Graphics/SVG/1.1/DTD/svg11.dtd\">\n<!-- Generated by graphviz version 2.43.0 (0)\n -->\n<!-- Title: %3 Pages: 1 -->\n<svg width=\"1157pt\" height=\"156pt\"\n viewBox=\"0.00 0.00 1157.00 156.00\" xmlns=\"http://www.w3.org/2000/svg\" xmlns:xlink=\"http://www.w3.org/1999/xlink\">\n<g id=\"graph0\" class=\"graph\" transform=\"scale(1 1) rotate(0) translate(4 152)\">\n<title>%3</title>\n<polygon fill=\"white\" stroke=\"transparent\" points=\"-4,4 -4,-152 1153,-152 1153,4 -4,4\"/>\n<!-- 139765229710352 -->\n<g id=\"node1\" class=\"node\">\n<title>139765229710352</title>\n<polygon fill=\"none\" stroke=\"black\" points=\"4.5,-111.5 4.5,-147.5 189.5,-147.5 189.5,-111.5 4.5,-111.5\"/>\n<text text-anchor=\"middle\" x=\"16\" y=\"-125.8\" font-family=\"Times,serif\" font-size=\"14.00\">a</text>\n<polyline fill=\"none\" stroke=\"black\" points=\"27.5,-111.5 27.5,-147.5 \"/>\n<text text-anchor=\"middle\" x=\"67.5\" y=\"-125.8\" font-family=\"Times,serif\" font-size=\"14.00\">data 2.0000</text>\n<polyline fill=\"none\" stroke=\"black\" points=\"107.5,-111.5 107.5,-147.5 \"/>\n<text text-anchor=\"middle\" x=\"148.5\" y=\"-125.8\" font-family=\"Times,serif\" font-size=\"14.00\">grad 6.0000</text>\n</g>\n<!-- 139765230840368* -->\n<g id=\"node3\" class=\"node\">\n<title>139765230840368*</title>\n<ellipse fill=\"none\" stroke=\"black\" cx=\"257\" cy=\"-101.5\" rx=\"27\" ry=\"18\"/>\n<text text-anchor=\"middle\" x=\"257\" y=\"-97.8\" font-family=\"Times,serif\" font-size=\"14.00\">*</text>\n</g>\n<!-- 139765229710352&#45;&gt;139765230840368* -->\n<g id=\"edge4\" class=\"edge\">\n<title>139765229710352&#45;&gt;139765230840368*</title>\n<path fill=\"none\" stroke=\"black\" d=\"M189.91,-113.21C200.76,-111.29 211.28,-109.43 220.61,-107.77\"/>\n<polygon fill=\"black\" stroke=\"black\" points=\"221.37,-111.19 230.6,-106 220.15,-104.3 221.37,-111.19\"/>\n</g>\n<!-- 139765230840368 -->\n<g id=\"node2\" class=\"node\">\n<title>139765230840368</title>\n<polygon fill=\"none\" stroke=\"black\" points=\"321,-83.5 321,-119.5 515,-119.5 515,-83.5 321,-83.5\"/>\n<text text-anchor=\"middle\" x=\"332.5\" y=\"-97.8\" font-family=\"Times,serif\" font-size=\"14.00\">e</text>\n<polyline fill=\"none\" stroke=\"black\" points=\"344,-83.5 344,-119.5 \"/>\n<text text-anchor=\"middle\" x=\"386.5\" y=\"-97.8\" font-family=\"Times,serif\" font-size=\"14.00\">data &#45;6.0000</text>\n<polyline fill=\"none\" stroke=\"black\" points=\"429,-83.5 429,-119.5 \"/>\n<text text-anchor=\"middle\" x=\"472\" y=\"-97.8\" font-family=\"Times,serif\" font-size=\"14.00\">grad &#45;2.0000</text>\n</g>\n<!-- 139765230841568+ -->\n<g id=\"node6\" class=\"node\">\n<title>139765230841568+</title>\n<ellipse fill=\"none\" stroke=\"black\" cx=\"579\" cy=\"-73.5\" rx=\"27\" ry=\"18\"/>\n<text text-anchor=\"middle\" x=\"579\" y=\"-69.8\" font-family=\"Times,serif\" font-size=\"14.00\">+</text>\n</g>\n<!-- 139765230840368&#45;&gt;139765230841568+ -->\n<g id=\"edge6\" class=\"edge\">\n<title>139765230840368&#45;&gt;139765230841568+</title>\n<path fill=\"none\" stroke=\"black\" d=\"M515.16,-84.57C524.82,-82.87 534.13,-81.23 542.49,-79.75\"/>\n<polygon fill=\"black\" stroke=\"black\" points=\"543.3,-83.17 552.54,-77.98 542.08,-76.27 543.3,-83.17\"/>\n</g>\n<!-- 139765230840368*&#45;&gt;139765230840368 -->\n<g id=\"edge1\" class=\"edge\">\n<title>139765230840368*&#45;&gt;139765230840368</title>\n<path fill=\"none\" stroke=\"black\" d=\"M284.26,-101.5C292.05,-101.5 301.1,-101.5 310.75,-101.5\"/>\n<polygon fill=\"black\" stroke=\"black\" points=\"310.99,-105 320.99,-101.5 310.99,-98 310.99,-105\"/>\n</g>\n<!-- 139765229708480 -->\n<g id=\"node4\" class=\"node\">\n<title>139765229708480</title>\n<polygon fill=\"none\" stroke=\"black\" points=\"0,-56.5 0,-92.5 194,-92.5 194,-56.5 0,-56.5\"/>\n<text text-anchor=\"middle\" x=\"11.5\" y=\"-70.8\" font-family=\"Times,serif\" font-size=\"14.00\">b</text>\n<polyline fill=\"none\" stroke=\"black\" points=\"23,-56.5 23,-92.5 \"/>\n<text text-anchor=\"middle\" x=\"65.5\" y=\"-70.8\" font-family=\"Times,serif\" font-size=\"14.00\">data &#45;3.0000</text>\n<polyline fill=\"none\" stroke=\"black\" points=\"108,-56.5 108,-92.5 \"/>\n<text text-anchor=\"middle\" x=\"151\" y=\"-70.8\" font-family=\"Times,serif\" font-size=\"14.00\">grad &#45;4.0000</text>\n</g>\n<!-- 139765229708480&#45;&gt;139765230840368* -->\n<g id=\"edge5\" class=\"edge\">\n<title>139765229708480&#45;&gt;139765230840368*</title>\n<path fill=\"none\" stroke=\"black\" d=\"M194.01,-90.91C203.35,-92.5 212.37,-94.04 220.49,-95.43\"/>\n<polygon fill=\"black\" stroke=\"black\" points=\"220.16,-98.93 230.6,-97.16 221.34,-92.03 220.16,-98.93\"/>\n</g>\n<!-- 139765230841568 -->\n<g id=\"node5\" class=\"node\">\n<title>139765230841568</title>\n<polygon fill=\"none\" stroke=\"black\" points=\"642,-55.5 642,-91.5 831,-91.5 831,-55.5 642,-55.5\"/>\n<text text-anchor=\"middle\" x=\"653.5\" y=\"-69.8\" font-family=\"Times,serif\" font-size=\"14.00\">d</text>\n<polyline fill=\"none\" stroke=\"black\" points=\"665,-55.5 665,-91.5 \"/>\n<text text-anchor=\"middle\" x=\"705\" y=\"-69.8\" font-family=\"Times,serif\" font-size=\"14.00\">data 4.0000</text>\n<polyline fill=\"none\" stroke=\"black\" points=\"745,-55.5 745,-91.5 \"/>\n<text text-anchor=\"middle\" x=\"788\" y=\"-69.8\" font-family=\"Times,serif\" font-size=\"14.00\">grad &#45;2.0000</text>\n</g>\n<!-- 139765230839552* -->\n<g id=\"node8\" class=\"node\">\n<title>139765230839552*</title>\n<ellipse fill=\"none\" stroke=\"black\" cx=\"894\" cy=\"-45.5\" rx=\"27\" ry=\"18\"/>\n<text text-anchor=\"middle\" x=\"894\" y=\"-41.8\" font-family=\"Times,serif\" font-size=\"14.00\">*</text>\n</g>\n<!-- 139765230841568&#45;&gt;139765230839552* -->\n<g id=\"edge8\" class=\"edge\">\n<title>139765230841568&#45;&gt;139765230839552*</title>\n<path fill=\"none\" stroke=\"black\" d=\"M831.1,-56.65C840.4,-54.97 849.38,-53.35 857.49,-51.89\"/>\n<polygon fill=\"black\" stroke=\"black\" points=\"858.37,-55.29 867.59,-50.07 857.13,-48.4 858.37,-55.29\"/>\n</g>\n<!-- 139765230841568+&#45;&gt;139765230841568 -->\n<g id=\"edge2\" class=\"edge\">\n<title>139765230841568+&#45;&gt;139765230841568</title>\n<path fill=\"none\" stroke=\"black\" d=\"M606.03,-73.5C613.66,-73.5 622.52,-73.5 631.94,-73.5\"/>\n<polygon fill=\"black\" stroke=\"black\" points=\"631.94,-77 641.94,-73.5 631.94,-70 631.94,-77\"/>\n</g>\n<!-- 139765230839552 -->\n<g id=\"node7\" class=\"node\">\n<title>139765230839552</title>\n<polygon fill=\"none\" stroke=\"black\" points=\"957,-27.5 957,-63.5 1149,-63.5 1149,-27.5 957,-27.5\"/>\n<text text-anchor=\"middle\" x=\"969.5\" y=\"-41.8\" font-family=\"Times,serif\" font-size=\"14.00\">L</text>\n<polyline fill=\"none\" stroke=\"black\" points=\"982,-27.5 982,-63.5 \"/>\n<text text-anchor=\"middle\" x=\"1024.5\" y=\"-41.8\" font-family=\"Times,serif\" font-size=\"14.00\">data &#45;8.0000</text>\n<polyline fill=\"none\" stroke=\"black\" points=\"1067,-27.5 1067,-63.5 \"/>\n<text text-anchor=\"middle\" x=\"1108\" y=\"-41.8\" font-family=\"Times,serif\" font-size=\"14.00\">grad 1.0000</text>\n</g>\n<!-- 139765230839552*&#45;&gt;139765230839552 -->\n<g id=\"edge3\" class=\"edge\">\n<title>139765230839552*&#45;&gt;139765230839552</title>\n<path fill=\"none\" stroke=\"black\" d=\"M921.28,-45.5C928.78,-45.5 937.44,-45.5 946.67,-45.5\"/>\n<polygon fill=\"black\" stroke=\"black\" points=\"946.87,-49 956.87,-45.5 946.87,-42 946.87,-49\"/>\n</g>\n<!-- 139765230840128 -->\n<g id=\"node9\" class=\"node\">\n<title>139765230840128</title>\n<polygon fill=\"none\" stroke=\"black\" points=\"642.5,-0.5 642.5,-36.5 830.5,-36.5 830.5,-0.5 642.5,-0.5\"/>\n<text text-anchor=\"middle\" x=\"653\" y=\"-14.8\" font-family=\"Times,serif\" font-size=\"14.00\">f</text>\n<polyline fill=\"none\" stroke=\"black\" points=\"663.5,-0.5 663.5,-36.5 \"/>\n<text text-anchor=\"middle\" x=\"706\" y=\"-14.8\" font-family=\"Times,serif\" font-size=\"14.00\">data &#45;2.0000</text>\n<polyline fill=\"none\" stroke=\"black\" points=\"748.5,-0.5 748.5,-36.5 \"/>\n<text text-anchor=\"middle\" x=\"789.5\" y=\"-14.8\" font-family=\"Times,serif\" font-size=\"14.00\">grad 4.0000</text>\n</g>\n<!-- 139765230840128&#45;&gt;139765230839552* -->\n<g id=\"edge7\" class=\"edge\">\n<title>139765230840128&#45;&gt;139765230839552*</title>\n<path fill=\"none\" stroke=\"black\" d=\"M830.65,-34.67C840.2,-36.33 849.43,-37.93 857.72,-39.37\"/>\n<polygon fill=\"black\" stroke=\"black\" points=\"857.24,-42.84 867.69,-41.11 858.44,-35.95 857.24,-42.84\"/>\n</g>\n<!-- 139765230840752 -->\n<g id=\"node10\" class=\"node\">\n<title>139765230840752</title>\n<polygon fill=\"none\" stroke=\"black\" points=\"320,-28.5 320,-64.5 516,-64.5 516,-28.5 320,-28.5\"/>\n<text text-anchor=\"middle\" x=\"331.5\" y=\"-42.8\" font-family=\"Times,serif\" font-size=\"14.00\">c</text>\n<polyline fill=\"none\" stroke=\"black\" points=\"343,-28.5 343,-64.5 \"/>\n<text text-anchor=\"middle\" x=\"386.5\" y=\"-42.8\" font-family=\"Times,serif\" font-size=\"14.00\">data 10.0000</text>\n<polyline fill=\"none\" stroke=\"black\" points=\"430,-28.5 430,-64.5 \"/>\n<text text-anchor=\"middle\" x=\"473\" y=\"-42.8\" font-family=\"Times,serif\" font-size=\"14.00\">grad &#45;2.0000</text>\n</g>\n<!-- 139765230840752&#45;&gt;139765230841568+ -->\n<g id=\"edge9\" class=\"edge\">\n<title>139765230840752&#45;&gt;139765230841568+</title>\n<path fill=\"none\" stroke=\"black\" d=\"M516.07,-62.98C525.42,-64.57 534.43,-66.1 542.55,-67.48\"/>\n<polygon fill=\"black\" stroke=\"black\" points=\"542.21,-70.97 552.65,-69.2 543.38,-64.07 542.21,-70.97\"/>\n</g>\n</g>\n</svg>\n",
            "text/plain": [
              "<graphviz.graphs.Digraph at 0x7f1da0de6d90>"
            ]
          },
          "metadata": {},
          "execution_count": 22
        }
      ]
    },
    {
      "cell_type": "markdown",
      "source": [
        "## Neuron"
      ],
      "metadata": {
        "id": "lA3YrWXWLePK"
      }
    },
    {
      "cell_type": "code",
      "source": [
        "# tan(X1W1 + X2W2 + bias) = output"
      ],
      "metadata": {
        "id": "KpVahn_UMWt0"
      },
      "execution_count": 23,
      "outputs": []
    },
    {
      "cell_type": "markdown",
      "source": [
        "### Manual backpropagation"
      ],
      "metadata": {
        "id": "nUdD0pO3ByZX"
      }
    },
    {
      "cell_type": "code",
      "source": [
        "# inputs x1,x2\n",
        "x1 = Value(2.0, label='X1')\n",
        "x2 = Value(0.0, label='X2')\n",
        "# weights w1,w2\n",
        "w1 = Value(-3.0, label='W1')\n",
        "w2 = Value(1.0, label='W2')\n",
        "# bias of the neuron\n",
        "b = Value(6.8813735870195432, label='bias')\n",
        "# x1*w1 + x2*w2 + b\n",
        "x1w1 = x1*w1; x1w1.label = 'X1W1'\n",
        "x2w2 = x2*w2; x2w2.label = 'X2W2'\n",
        "x1w1x2w2 = x1w1 + x2w2; x1w1x2w2.label = 'X1W1 + X2W2'\n",
        "n = x1w1x2w2 + b; n.label = 'n'\n",
        "o = n.tanh(); o.label = 'o'\n",
        "\n",
        "# chain rule\n",
        "o.grad = 1 # do/do = 1\n",
        "n.grad = 1 - o.data ** 2 # o = tanh(n); do/dn = 1 - o**2\n",
        "b.grad = n.grad*1 # n = b + x1w1x2w2; dn/db = 1; do/db = do/dn*dn/db\n",
        "x1w1x2w2.grad = b.grad*1 # n = b + x1w1x2w2; dn/dx1w1x2w2 = 1; do/x1w1x2w2 = do/dn*dn/x1w1x2w2\n",
        "x1w1.grad = x1w1x2w2.grad*1\n",
        "x2w2.grad = x1w1x2w2.grad*1\n",
        "w1.grad = x1w1.grad*x1.data # x1w1 = x1*w1; dx1w1/dw1 = x1; do/dw1 = do/dx1w1*dx1w1/dw1\n",
        "w2.grad = x2w2.grad*x2.data # x2w2 = x2*w2; dx2w2/dw2 = x2; do/dw2 = do/dx2w2*dx2w2/dw2\n",
        "x1.grad = x1w1.grad*w1.data # x1w1 = x1*w1; dx1w1/dx1 = w1; do/dx1 = do/dx1w1*dx1w1/dx1\n",
        "x2.grad = x1w1.grad*w2.data # x2w2 = x2*w2; dx2w2/dx2 = w2; do/dx2 = do/dx2w2*dx2w2/dx2"
      ],
      "metadata": {
        "id": "9xlurvJ2MTIj"
      },
      "execution_count": 24,
      "outputs": []
    },
    {
      "cell_type": "code",
      "source": [
        "draw_dot(o)"
      ],
      "metadata": {
        "id": "Kw24ai5FMTlg",
        "outputId": "983e76fe-6565-4c67-dc15-96931527d3af",
        "colab": {
          "base_uri": "https://localhost:8080/",
          "height": 321
        }
      },
      "execution_count": 25,
      "outputs": [
        {
          "output_type": "execute_result",
          "data": {
            "image/svg+xml": "<?xml version=\"1.0\" encoding=\"UTF-8\" standalone=\"no\"?>\n<!DOCTYPE svg PUBLIC \"-//W3C//DTD SVG 1.1//EN\"\n \"http://www.w3.org/Graphics/SVG/1.1/DTD/svg11.dtd\">\n<!-- Generated by graphviz version 2.43.0 (0)\n -->\n<!-- Title: %3 Pages: 1 -->\n<svg width=\"1579pt\" height=\"210pt\"\n viewBox=\"0.00 0.00 1579.00 210.00\" xmlns=\"http://www.w3.org/2000/svg\" xmlns:xlink=\"http://www.w3.org/1999/xlink\">\n<g id=\"graph0\" class=\"graph\" transform=\"scale(1 1) rotate(0) translate(4 206)\">\n<title>%3</title>\n<polygon fill=\"white\" stroke=\"transparent\" points=\"-4,4 -4,-206 1575,-206 1575,4 -4,4\"/>\n<!-- 139765229795888 -->\n<g id=\"node1\" class=\"node\">\n<title>139765229795888</title>\n<polygon fill=\"none\" stroke=\"black\" points=\"1075,-109.5 1075,-145.5 1260,-145.5 1260,-109.5 1075,-109.5\"/>\n<text text-anchor=\"middle\" x=\"1086.5\" y=\"-123.8\" font-family=\"Times,serif\" font-size=\"14.00\">n</text>\n<polyline fill=\"none\" stroke=\"black\" points=\"1098,-109.5 1098,-145.5 \"/>\n<text text-anchor=\"middle\" x=\"1138\" y=\"-123.8\" font-family=\"Times,serif\" font-size=\"14.00\">data 0.8814</text>\n<polyline fill=\"none\" stroke=\"black\" points=\"1178,-109.5 1178,-145.5 \"/>\n<text text-anchor=\"middle\" x=\"1219\" y=\"-123.8\" font-family=\"Times,serif\" font-size=\"14.00\">grad 0.5000</text>\n</g>\n<!-- 139765229796080tanh -->\n<g id=\"node7\" class=\"node\">\n<title>139765229796080tanh</title>\n<ellipse fill=\"none\" stroke=\"black\" cx=\"1323\" cy=\"-127.5\" rx=\"27\" ry=\"18\"/>\n<text text-anchor=\"middle\" x=\"1323\" y=\"-123.8\" font-family=\"Times,serif\" font-size=\"14.00\">tanh</text>\n</g>\n<!-- 139765229795888&#45;&gt;139765229796080tanh -->\n<g id=\"edge9\" class=\"edge\">\n<title>139765229795888&#45;&gt;139765229796080tanh</title>\n<path fill=\"none\" stroke=\"black\" d=\"M1260.01,-127.5C1269.01,-127.5 1277.74,-127.5 1285.66,-127.5\"/>\n<polygon fill=\"black\" stroke=\"black\" points=\"1285.91,-131 1295.91,-127.5 1285.91,-124 1285.91,-131\"/>\n</g>\n<!-- 139765229795888+ -->\n<g id=\"node2\" class=\"node\">\n<title>139765229795888+</title>\n<ellipse fill=\"none\" stroke=\"black\" cx=\"1012\" cy=\"-127.5\" rx=\"27\" ry=\"18\"/>\n<text text-anchor=\"middle\" x=\"1012\" y=\"-123.8\" font-family=\"Times,serif\" font-size=\"14.00\">+</text>\n</g>\n<!-- 139765229795888+&#45;&gt;139765229795888 -->\n<g id=\"edge1\" class=\"edge\">\n<title>139765229795888+&#45;&gt;139765229795888</title>\n<path fill=\"none\" stroke=\"black\" d=\"M1039.04,-127.5C1046.58,-127.5 1055.3,-127.5 1064.57,-127.5\"/>\n<polygon fill=\"black\" stroke=\"black\" points=\"1064.81,-131 1074.81,-127.5 1064.81,-124 1064.81,-131\"/>\n</g>\n<!-- 139765229781056 -->\n<g id=\"node3\" class=\"node\">\n<title>139765229781056</title>\n<polygon fill=\"none\" stroke=\"black\" points=\"330,-110.5 330,-146.5 550,-146.5 550,-110.5 330,-110.5\"/>\n<text text-anchor=\"middle\" x=\"356.5\" y=\"-124.8\" font-family=\"Times,serif\" font-size=\"14.00\">X1W1</text>\n<polyline fill=\"none\" stroke=\"black\" points=\"383,-110.5 383,-146.5 \"/>\n<text text-anchor=\"middle\" x=\"425.5\" y=\"-124.8\" font-family=\"Times,serif\" font-size=\"14.00\">data &#45;6.0000</text>\n<polyline fill=\"none\" stroke=\"black\" points=\"468,-110.5 468,-146.5 \"/>\n<text text-anchor=\"middle\" x=\"509\" y=\"-124.8\" font-family=\"Times,serif\" font-size=\"14.00\">grad 0.5000</text>\n</g>\n<!-- 139765229795696+ -->\n<g id=\"node12\" class=\"node\">\n<title>139765229795696+</title>\n<ellipse fill=\"none\" stroke=\"black\" cx=\"613\" cy=\"-100.5\" rx=\"27\" ry=\"18\"/>\n<text text-anchor=\"middle\" x=\"613\" y=\"-96.8\" font-family=\"Times,serif\" font-size=\"14.00\">+</text>\n</g>\n<!-- 139765229781056&#45;&gt;139765229795696+ -->\n<g id=\"edge10\" class=\"edge\">\n<title>139765229781056&#45;&gt;139765229795696+</title>\n<path fill=\"none\" stroke=\"black\" d=\"M550.27,-110.61C559.64,-109.07 568.6,-107.61 576.65,-106.29\"/>\n<polygon fill=\"black\" stroke=\"black\" points=\"577.35,-109.72 586.65,-104.65 576.22,-102.81 577.35,-109.72\"/>\n</g>\n<!-- 139765229781056* -->\n<g id=\"node4\" class=\"node\">\n<title>139765229781056*</title>\n<ellipse fill=\"none\" stroke=\"black\" cx=\"267\" cy=\"-128.5\" rx=\"27\" ry=\"18\"/>\n<text text-anchor=\"middle\" x=\"267\" y=\"-124.8\" font-family=\"Times,serif\" font-size=\"14.00\">*</text>\n</g>\n<!-- 139765229781056*&#45;&gt;139765229781056 -->\n<g id=\"edge2\" class=\"edge\">\n<title>139765229781056*&#45;&gt;139765229781056</title>\n<path fill=\"none\" stroke=\"black\" d=\"M294.34,-128.5C301.77,-128.5 310.37,-128.5 319.6,-128.5\"/>\n<polygon fill=\"black\" stroke=\"black\" points=\"319.84,-132 329.84,-128.5 319.84,-125 319.84,-132\"/>\n</g>\n<!-- 139765800812208 -->\n<g id=\"node5\" class=\"node\">\n<title>139765800812208</title>\n<polygon fill=\"none\" stroke=\"black\" points=\"712.5,-137.5 712.5,-173.5 912.5,-173.5 912.5,-137.5 712.5,-137.5\"/>\n<text text-anchor=\"middle\" x=\"731.5\" y=\"-151.8\" font-family=\"Times,serif\" font-size=\"14.00\">bias</text>\n<polyline fill=\"none\" stroke=\"black\" points=\"750.5,-137.5 750.5,-173.5 \"/>\n<text text-anchor=\"middle\" x=\"790.5\" y=\"-151.8\" font-family=\"Times,serif\" font-size=\"14.00\">data 6.8814</text>\n<polyline fill=\"none\" stroke=\"black\" points=\"830.5,-137.5 830.5,-173.5 \"/>\n<text text-anchor=\"middle\" x=\"871.5\" y=\"-151.8\" font-family=\"Times,serif\" font-size=\"14.00\">grad 0.5000</text>\n</g>\n<!-- 139765800812208&#45;&gt;139765229795888+ -->\n<g id=\"edge13\" class=\"edge\">\n<title>139765800812208&#45;&gt;139765229795888+</title>\n<path fill=\"none\" stroke=\"black\" d=\"M912.54,-141.46C934.96,-138.28 957.36,-135.1 975.12,-132.59\"/>\n<polygon fill=\"black\" stroke=\"black\" points=\"975.86,-136.02 985.27,-131.15 974.88,-129.09 975.86,-136.02\"/>\n</g>\n<!-- 139765229796080 -->\n<g id=\"node6\" class=\"node\">\n<title>139765229796080</title>\n<polygon fill=\"none\" stroke=\"black\" points=\"1386,-109.5 1386,-145.5 1571,-145.5 1571,-109.5 1386,-109.5\"/>\n<text text-anchor=\"middle\" x=\"1397.5\" y=\"-123.8\" font-family=\"Times,serif\" font-size=\"14.00\">o</text>\n<polyline fill=\"none\" stroke=\"black\" points=\"1409,-109.5 1409,-145.5 \"/>\n<text text-anchor=\"middle\" x=\"1449\" y=\"-123.8\" font-family=\"Times,serif\" font-size=\"14.00\">data 0.7071</text>\n<polyline fill=\"none\" stroke=\"black\" points=\"1489,-109.5 1489,-145.5 \"/>\n<text text-anchor=\"middle\" x=\"1530\" y=\"-123.8\" font-family=\"Times,serif\" font-size=\"14.00\">grad 1.0000</text>\n</g>\n<!-- 139765229796080tanh&#45;&gt;139765229796080 -->\n<g id=\"edge3\" class=\"edge\">\n<title>139765229796080tanh&#45;&gt;139765229796080</title>\n<path fill=\"none\" stroke=\"black\" d=\"M1350.04,-127.5C1357.58,-127.5 1366.3,-127.5 1375.57,-127.5\"/>\n<polygon fill=\"black\" stroke=\"black\" points=\"1375.81,-131 1385.81,-127.5 1375.81,-124 1375.81,-131\"/>\n</g>\n<!-- 139765800811776 -->\n<g id=\"node8\" class=\"node\">\n<title>139765800811776</title>\n<polygon fill=\"none\" stroke=\"black\" points=\"0,-165.5 0,-201.5 204,-201.5 204,-165.5 0,-165.5\"/>\n<text text-anchor=\"middle\" x=\"18.5\" y=\"-179.8\" font-family=\"Times,serif\" font-size=\"14.00\">W1</text>\n<polyline fill=\"none\" stroke=\"black\" points=\"37,-165.5 37,-201.5 \"/>\n<text text-anchor=\"middle\" x=\"79.5\" y=\"-179.8\" font-family=\"Times,serif\" font-size=\"14.00\">data &#45;3.0000</text>\n<polyline fill=\"none\" stroke=\"black\" points=\"122,-165.5 122,-201.5 \"/>\n<text text-anchor=\"middle\" x=\"163\" y=\"-179.8\" font-family=\"Times,serif\" font-size=\"14.00\">grad 1.0000</text>\n</g>\n<!-- 139765800811776&#45;&gt;139765229781056* -->\n<g id=\"edge8\" class=\"edge\">\n<title>139765800811776&#45;&gt;139765229781056*</title>\n<path fill=\"none\" stroke=\"black\" d=\"M176.26,-165.43C185.67,-162.67 195.11,-159.67 204,-156.5 214.54,-152.74 225.77,-147.93 235.73,-143.36\"/>\n<polygon fill=\"black\" stroke=\"black\" points=\"237.26,-146.51 244.83,-139.09 234.29,-140.17 237.26,-146.51\"/>\n</g>\n<!-- 139765800812400 -->\n<g id=\"node9\" class=\"node\">\n<title>139765800812400</title>\n<polygon fill=\"none\" stroke=\"black\" points=\"2.5,-55.5 2.5,-91.5 201.5,-91.5 201.5,-55.5 2.5,-55.5\"/>\n<text text-anchor=\"middle\" x=\"21\" y=\"-69.8\" font-family=\"Times,serif\" font-size=\"14.00\">W2</text>\n<polyline fill=\"none\" stroke=\"black\" points=\"39.5,-55.5 39.5,-91.5 \"/>\n<text text-anchor=\"middle\" x=\"79.5\" y=\"-69.8\" font-family=\"Times,serif\" font-size=\"14.00\">data 1.0000</text>\n<polyline fill=\"none\" stroke=\"black\" points=\"119.5,-55.5 119.5,-91.5 \"/>\n<text text-anchor=\"middle\" x=\"160.5\" y=\"-69.8\" font-family=\"Times,serif\" font-size=\"14.00\">grad 0.0000</text>\n</g>\n<!-- 139765229795744* -->\n<g id=\"node14\" class=\"node\">\n<title>139765229795744*</title>\n<ellipse fill=\"none\" stroke=\"black\" cx=\"267\" cy=\"-73.5\" rx=\"27\" ry=\"18\"/>\n<text text-anchor=\"middle\" x=\"267\" y=\"-69.8\" font-family=\"Times,serif\" font-size=\"14.00\">*</text>\n</g>\n<!-- 139765800812400&#45;&gt;139765229795744* -->\n<g id=\"edge12\" class=\"edge\">\n<title>139765800812400&#45;&gt;139765229795744*</title>\n<path fill=\"none\" stroke=\"black\" d=\"M201.58,-73.5C211.59,-73.5 221.24,-73.5 229.89,-73.5\"/>\n<polygon fill=\"black\" stroke=\"black\" points=\"229.9,-77 239.9,-73.5 229.9,-70 229.9,-77\"/>\n</g>\n<!-- 139765800811824 -->\n<g id=\"node10\" class=\"node\">\n<title>139765800811824</title>\n<polygon fill=\"none\" stroke=\"black\" points=\"2.5,-110.5 2.5,-146.5 201.5,-146.5 201.5,-110.5 2.5,-110.5\"/>\n<text text-anchor=\"middle\" x=\"19\" y=\"-124.8\" font-family=\"Times,serif\" font-size=\"14.00\">X1</text>\n<polyline fill=\"none\" stroke=\"black\" points=\"35.5,-110.5 35.5,-146.5 \"/>\n<text text-anchor=\"middle\" x=\"75.5\" y=\"-124.8\" font-family=\"Times,serif\" font-size=\"14.00\">data 2.0000</text>\n<polyline fill=\"none\" stroke=\"black\" points=\"115.5,-110.5 115.5,-146.5 \"/>\n<text text-anchor=\"middle\" x=\"158.5\" y=\"-124.8\" font-family=\"Times,serif\" font-size=\"14.00\">grad &#45;1.5000</text>\n</g>\n<!-- 139765800811824&#45;&gt;139765229781056* -->\n<g id=\"edge11\" class=\"edge\">\n<title>139765800811824&#45;&gt;139765229781056*</title>\n<path fill=\"none\" stroke=\"black\" d=\"M201.58,-128.5C211.59,-128.5 221.24,-128.5 229.89,-128.5\"/>\n<polygon fill=\"black\" stroke=\"black\" points=\"229.9,-132 239.9,-128.5 229.9,-125 229.9,-132\"/>\n</g>\n<!-- 139765229795696 -->\n<g id=\"node11\" class=\"node\">\n<title>139765229795696</title>\n<polygon fill=\"none\" stroke=\"black\" points=\"676,-82.5 676,-118.5 949,-118.5 949,-82.5 676,-82.5\"/>\n<text text-anchor=\"middle\" x=\"729\" y=\"-96.8\" font-family=\"Times,serif\" font-size=\"14.00\">X1W1 + X2W2</text>\n<polyline fill=\"none\" stroke=\"black\" points=\"782,-82.5 782,-118.5 \"/>\n<text text-anchor=\"middle\" x=\"824.5\" y=\"-96.8\" font-family=\"Times,serif\" font-size=\"14.00\">data &#45;6.0000</text>\n<polyline fill=\"none\" stroke=\"black\" points=\"867,-82.5 867,-118.5 \"/>\n<text text-anchor=\"middle\" x=\"908\" y=\"-96.8\" font-family=\"Times,serif\" font-size=\"14.00\">grad 0.5000</text>\n</g>\n<!-- 139765229795696&#45;&gt;139765229795888+ -->\n<g id=\"edge7\" class=\"edge\">\n<title>139765229795696&#45;&gt;139765229795888+</title>\n<path fill=\"none\" stroke=\"black\" d=\"M945.24,-118.51C956.12,-120 966.4,-121.4 975.45,-122.64\"/>\n<polygon fill=\"black\" stroke=\"black\" points=\"975.11,-126.13 985.49,-124.01 976.05,-119.19 975.11,-126.13\"/>\n</g>\n<!-- 139765229795696+&#45;&gt;139765229795696 -->\n<g id=\"edge4\" class=\"edge\">\n<title>139765229795696+&#45;&gt;139765229795696</title>\n<path fill=\"none\" stroke=\"black\" d=\"M640.23,-100.5C647.7,-100.5 656.41,-100.5 665.87,-100.5\"/>\n<polygon fill=\"black\" stroke=\"black\" points=\"665.98,-104 675.98,-100.5 665.98,-97 665.98,-104\"/>\n</g>\n<!-- 139765229795744 -->\n<g id=\"node13\" class=\"node\">\n<title>139765229795744</title>\n<polygon fill=\"none\" stroke=\"black\" points=\"332.5,-55.5 332.5,-91.5 547.5,-91.5 547.5,-55.5 332.5,-55.5\"/>\n<text text-anchor=\"middle\" x=\"359\" y=\"-69.8\" font-family=\"Times,serif\" font-size=\"14.00\">X2W2</text>\n<polyline fill=\"none\" stroke=\"black\" points=\"385.5,-55.5 385.5,-91.5 \"/>\n<text text-anchor=\"middle\" x=\"425.5\" y=\"-69.8\" font-family=\"Times,serif\" font-size=\"14.00\">data 0.0000</text>\n<polyline fill=\"none\" stroke=\"black\" points=\"465.5,-55.5 465.5,-91.5 \"/>\n<text text-anchor=\"middle\" x=\"506.5\" y=\"-69.8\" font-family=\"Times,serif\" font-size=\"14.00\">grad 0.5000</text>\n</g>\n<!-- 139765229795744&#45;&gt;139765229795696+ -->\n<g id=\"edge6\" class=\"edge\">\n<title>139765229795744&#45;&gt;139765229795696+</title>\n<path fill=\"none\" stroke=\"black\" d=\"M547.84,-90.37C558.01,-91.98 567.76,-93.51 576.44,-94.89\"/>\n<polygon fill=\"black\" stroke=\"black\" points=\"576.05,-98.37 586.47,-96.47 577.14,-91.45 576.05,-98.37\"/>\n</g>\n<!-- 139765229795744*&#45;&gt;139765229795744 -->\n<g id=\"edge5\" class=\"edge\">\n<title>139765229795744*&#45;&gt;139765229795744</title>\n<path fill=\"none\" stroke=\"black\" d=\"M294.34,-73.5C302.51,-73.5 312.08,-73.5 322.36,-73.5\"/>\n<polygon fill=\"black\" stroke=\"black\" points=\"322.39,-77 332.39,-73.5 322.39,-70 322.39,-77\"/>\n</g>\n<!-- 139765814422448 -->\n<g id=\"node15\" class=\"node\">\n<title>139765814422448</title>\n<polygon fill=\"none\" stroke=\"black\" points=\"4.5,-0.5 4.5,-36.5 199.5,-36.5 199.5,-0.5 4.5,-0.5\"/>\n<text text-anchor=\"middle\" x=\"21\" y=\"-14.8\" font-family=\"Times,serif\" font-size=\"14.00\">X2</text>\n<polyline fill=\"none\" stroke=\"black\" points=\"37.5,-0.5 37.5,-36.5 \"/>\n<text text-anchor=\"middle\" x=\"77.5\" y=\"-14.8\" font-family=\"Times,serif\" font-size=\"14.00\">data 0.0000</text>\n<polyline fill=\"none\" stroke=\"black\" points=\"117.5,-0.5 117.5,-36.5 \"/>\n<text text-anchor=\"middle\" x=\"158.5\" y=\"-14.8\" font-family=\"Times,serif\" font-size=\"14.00\">grad 0.5000</text>\n</g>\n<!-- 139765814422448&#45;&gt;139765229795744* -->\n<g id=\"edge14\" class=\"edge\">\n<title>139765814422448&#45;&gt;139765229795744*</title>\n<path fill=\"none\" stroke=\"black\" d=\"M172.94,-36.51C183.43,-39.61 194.05,-42.97 204,-46.5 214.29,-50.15 225.29,-54.71 235.12,-59.04\"/>\n<polygon fill=\"black\" stroke=\"black\" points=\"233.94,-62.34 244.49,-63.25 236.8,-55.96 233.94,-62.34\"/>\n</g>\n</g>\n</svg>\n",
            "text/plain": [
              "<graphviz.graphs.Digraph at 0x7f1da0df8a60>"
            ]
          },
          "metadata": {},
          "execution_count": 25
        }
      ]
    },
    {
      "cell_type": "markdown",
      "source": [
        "### Automate backpropagation"
      ],
      "metadata": {
        "id": "lGmgo_QgB4_i"
      }
    },
    {
      "cell_type": "code",
      "source": [
        "# inputs x1,x2\n",
        "x1 = Value(2.0, label='X1')\n",
        "x2 = Value(0.0, label='X2')\n",
        "# weights w1,w2\n",
        "w1 = Value(-3.0, label='W1')\n",
        "w2 = Value(1.0, label='W2')\n",
        "# bias of the neuron\n",
        "b = Value(6.8813735870195432, label='bias')\n",
        "# x1*w1 + x2*w2 + b\n",
        "x1w1 = x1*w1; x1w1.label = 'X1W1'\n",
        "x2w2 = x2*w2; x2w2.label = 'X2W2'\n",
        "x1w1x2w2 = x1w1 + x2w2; x1w1x2w2.label = 'X1W1 + X2W2'\n",
        "n = x1w1x2w2 + b; n.label = 'n'\n",
        "o = n.tanh(); o.label = 'o'\n",
        "\n",
        "# automate backpropagarion\n",
        "o.backward()"
      ],
      "metadata": {
        "id": "ZRC422MgMTgW"
      },
      "execution_count": 26,
      "outputs": []
    },
    {
      "cell_type": "code",
      "source": [
        "draw_dot(o)"
      ],
      "metadata": {
        "id": "Y6Fna0ZcMTRh",
        "outputId": "682e176a-2f3f-4089-8c36-24f3d41ac6de",
        "colab": {
          "base_uri": "https://localhost:8080/",
          "height": 321
        }
      },
      "execution_count": 27,
      "outputs": [
        {
          "output_type": "execute_result",
          "data": {
            "image/svg+xml": "<?xml version=\"1.0\" encoding=\"UTF-8\" standalone=\"no\"?>\n<!DOCTYPE svg PUBLIC \"-//W3C//DTD SVG 1.1//EN\"\n \"http://www.w3.org/Graphics/SVG/1.1/DTD/svg11.dtd\">\n<!-- Generated by graphviz version 2.43.0 (0)\n -->\n<!-- Title: %3 Pages: 1 -->\n<svg width=\"1579pt\" height=\"210pt\"\n viewBox=\"0.00 0.00 1579.00 210.00\" xmlns=\"http://www.w3.org/2000/svg\" xmlns:xlink=\"http://www.w3.org/1999/xlink\">\n<g id=\"graph0\" class=\"graph\" transform=\"scale(1 1) rotate(0) translate(4 206)\">\n<title>%3</title>\n<polygon fill=\"white\" stroke=\"transparent\" points=\"-4,4 -4,-206 1575,-206 1575,4 -4,4\"/>\n<!-- 139765229796944 -->\n<g id=\"node1\" class=\"node\">\n<title>139765229796944</title>\n<polygon fill=\"none\" stroke=\"black\" points=\"676,-82.5 676,-118.5 949,-118.5 949,-82.5 676,-82.5\"/>\n<text text-anchor=\"middle\" x=\"729\" y=\"-96.8\" font-family=\"Times,serif\" font-size=\"14.00\">X1W1 + X2W2</text>\n<polyline fill=\"none\" stroke=\"black\" points=\"782,-82.5 782,-118.5 \"/>\n<text text-anchor=\"middle\" x=\"824.5\" y=\"-96.8\" font-family=\"Times,serif\" font-size=\"14.00\">data &#45;6.0000</text>\n<polyline fill=\"none\" stroke=\"black\" points=\"867,-82.5 867,-118.5 \"/>\n<text text-anchor=\"middle\" x=\"908\" y=\"-96.8\" font-family=\"Times,serif\" font-size=\"14.00\">grad 0.5000</text>\n</g>\n<!-- 139765229793488+ -->\n<g id=\"node9\" class=\"node\">\n<title>139765229793488+</title>\n<ellipse fill=\"none\" stroke=\"black\" cx=\"1012\" cy=\"-127.5\" rx=\"27\" ry=\"18\"/>\n<text text-anchor=\"middle\" x=\"1012\" y=\"-123.8\" font-family=\"Times,serif\" font-size=\"14.00\">+</text>\n</g>\n<!-- 139765229796944&#45;&gt;139765229793488+ -->\n<g id=\"edge13\" class=\"edge\">\n<title>139765229796944&#45;&gt;139765229793488+</title>\n<path fill=\"none\" stroke=\"black\" d=\"M945.24,-118.51C956.12,-120 966.4,-121.4 975.45,-122.64\"/>\n<polygon fill=\"black\" stroke=\"black\" points=\"975.11,-126.13 985.49,-124.01 976.05,-119.19 975.11,-126.13\"/>\n</g>\n<!-- 139765229796944+ -->\n<g id=\"node2\" class=\"node\">\n<title>139765229796944+</title>\n<ellipse fill=\"none\" stroke=\"black\" cx=\"613\" cy=\"-100.5\" rx=\"27\" ry=\"18\"/>\n<text text-anchor=\"middle\" x=\"613\" y=\"-96.8\" font-family=\"Times,serif\" font-size=\"14.00\">+</text>\n</g>\n<!-- 139765229796944+&#45;&gt;139765229796944 -->\n<g id=\"edge1\" class=\"edge\">\n<title>139765229796944+&#45;&gt;139765229796944</title>\n<path fill=\"none\" stroke=\"black\" d=\"M640.23,-100.5C647.7,-100.5 656.41,-100.5 665.87,-100.5\"/>\n<polygon fill=\"black\" stroke=\"black\" points=\"665.98,-104 675.98,-100.5 665.98,-97 665.98,-104\"/>\n</g>\n<!-- 139765229796992 -->\n<g id=\"node3\" class=\"node\">\n<title>139765229796992</title>\n<polygon fill=\"none\" stroke=\"black\" points=\"330,-110.5 330,-146.5 550,-146.5 550,-110.5 330,-110.5\"/>\n<text text-anchor=\"middle\" x=\"356.5\" y=\"-124.8\" font-family=\"Times,serif\" font-size=\"14.00\">X1W1</text>\n<polyline fill=\"none\" stroke=\"black\" points=\"383,-110.5 383,-146.5 \"/>\n<text text-anchor=\"middle\" x=\"425.5\" y=\"-124.8\" font-family=\"Times,serif\" font-size=\"14.00\">data &#45;6.0000</text>\n<polyline fill=\"none\" stroke=\"black\" points=\"468,-110.5 468,-146.5 \"/>\n<text text-anchor=\"middle\" x=\"509\" y=\"-124.8\" font-family=\"Times,serif\" font-size=\"14.00\">grad 0.5000</text>\n</g>\n<!-- 139765229796992&#45;&gt;139765229796944+ -->\n<g id=\"edge9\" class=\"edge\">\n<title>139765229796992&#45;&gt;139765229796944+</title>\n<path fill=\"none\" stroke=\"black\" d=\"M550.27,-110.61C559.64,-109.07 568.6,-107.61 576.65,-106.29\"/>\n<polygon fill=\"black\" stroke=\"black\" points=\"577.35,-109.72 586.65,-104.65 576.22,-102.81 577.35,-109.72\"/>\n</g>\n<!-- 139765229796992* -->\n<g id=\"node4\" class=\"node\">\n<title>139765229796992*</title>\n<ellipse fill=\"none\" stroke=\"black\" cx=\"267\" cy=\"-128.5\" rx=\"27\" ry=\"18\"/>\n<text text-anchor=\"middle\" x=\"267\" y=\"-124.8\" font-family=\"Times,serif\" font-size=\"14.00\">*</text>\n</g>\n<!-- 139765229796992*&#45;&gt;139765229796992 -->\n<g id=\"edge2\" class=\"edge\">\n<title>139765229796992*&#45;&gt;139765229796992</title>\n<path fill=\"none\" stroke=\"black\" d=\"M294.34,-128.5C301.77,-128.5 310.37,-128.5 319.6,-128.5\"/>\n<polygon fill=\"black\" stroke=\"black\" points=\"319.84,-132 329.84,-128.5 319.84,-125 319.84,-132\"/>\n</g>\n<!-- 139765229783168 -->\n<g id=\"node5\" class=\"node\">\n<title>139765229783168</title>\n<polygon fill=\"none\" stroke=\"black\" points=\"0,-165.5 0,-201.5 204,-201.5 204,-165.5 0,-165.5\"/>\n<text text-anchor=\"middle\" x=\"18.5\" y=\"-179.8\" font-family=\"Times,serif\" font-size=\"14.00\">W1</text>\n<polyline fill=\"none\" stroke=\"black\" points=\"37,-165.5 37,-201.5 \"/>\n<text text-anchor=\"middle\" x=\"79.5\" y=\"-179.8\" font-family=\"Times,serif\" font-size=\"14.00\">data &#45;3.0000</text>\n<polyline fill=\"none\" stroke=\"black\" points=\"122,-165.5 122,-201.5 \"/>\n<text text-anchor=\"middle\" x=\"163\" y=\"-179.8\" font-family=\"Times,serif\" font-size=\"14.00\">grad 1.0000</text>\n</g>\n<!-- 139765229783168&#45;&gt;139765229796992* -->\n<g id=\"edge7\" class=\"edge\">\n<title>139765229783168&#45;&gt;139765229796992*</title>\n<path fill=\"none\" stroke=\"black\" d=\"M176.26,-165.43C185.67,-162.67 195.11,-159.67 204,-156.5 214.54,-152.74 225.77,-147.93 235.73,-143.36\"/>\n<polygon fill=\"black\" stroke=\"black\" points=\"237.26,-146.51 244.83,-139.09 234.29,-140.17 237.26,-146.51\"/>\n</g>\n<!-- 139765229783696 -->\n<g id=\"node6\" class=\"node\">\n<title>139765229783696</title>\n<polygon fill=\"none\" stroke=\"black\" points=\"2.5,-55.5 2.5,-91.5 201.5,-91.5 201.5,-55.5 2.5,-55.5\"/>\n<text text-anchor=\"middle\" x=\"21\" y=\"-69.8\" font-family=\"Times,serif\" font-size=\"14.00\">W2</text>\n<polyline fill=\"none\" stroke=\"black\" points=\"39.5,-55.5 39.5,-91.5 \"/>\n<text text-anchor=\"middle\" x=\"79.5\" y=\"-69.8\" font-family=\"Times,serif\" font-size=\"14.00\">data 1.0000</text>\n<polyline fill=\"none\" stroke=\"black\" points=\"119.5,-55.5 119.5,-91.5 \"/>\n<text text-anchor=\"middle\" x=\"160.5\" y=\"-69.8\" font-family=\"Times,serif\" font-size=\"14.00\">grad 0.0000</text>\n</g>\n<!-- 139765229793776* -->\n<g id=\"node13\" class=\"node\">\n<title>139765229793776*</title>\n<ellipse fill=\"none\" stroke=\"black\" cx=\"267\" cy=\"-73.5\" rx=\"27\" ry=\"18\"/>\n<text text-anchor=\"middle\" x=\"267\" y=\"-69.8\" font-family=\"Times,serif\" font-size=\"14.00\">*</text>\n</g>\n<!-- 139765229783696&#45;&gt;139765229793776* -->\n<g id=\"edge8\" class=\"edge\">\n<title>139765229783696&#45;&gt;139765229793776*</title>\n<path fill=\"none\" stroke=\"black\" d=\"M201.58,-73.5C211.59,-73.5 221.24,-73.5 229.89,-73.5\"/>\n<polygon fill=\"black\" stroke=\"black\" points=\"229.9,-77 239.9,-73.5 229.9,-70 229.9,-77\"/>\n</g>\n<!-- 139765229783744 -->\n<g id=\"node7\" class=\"node\">\n<title>139765229783744</title>\n<polygon fill=\"none\" stroke=\"black\" points=\"4.5,-0.5 4.5,-36.5 199.5,-36.5 199.5,-0.5 4.5,-0.5\"/>\n<text text-anchor=\"middle\" x=\"21\" y=\"-14.8\" font-family=\"Times,serif\" font-size=\"14.00\">X2</text>\n<polyline fill=\"none\" stroke=\"black\" points=\"37.5,-0.5 37.5,-36.5 \"/>\n<text text-anchor=\"middle\" x=\"77.5\" y=\"-14.8\" font-family=\"Times,serif\" font-size=\"14.00\">data 0.0000</text>\n<polyline fill=\"none\" stroke=\"black\" points=\"117.5,-0.5 117.5,-36.5 \"/>\n<text text-anchor=\"middle\" x=\"158.5\" y=\"-14.8\" font-family=\"Times,serif\" font-size=\"14.00\">grad 0.5000</text>\n</g>\n<!-- 139765229783744&#45;&gt;139765229793776* -->\n<g id=\"edge11\" class=\"edge\">\n<title>139765229783744&#45;&gt;139765229793776*</title>\n<path fill=\"none\" stroke=\"black\" d=\"M172.94,-36.51C183.43,-39.61 194.05,-42.97 204,-46.5 214.29,-50.15 225.29,-54.71 235.12,-59.04\"/>\n<polygon fill=\"black\" stroke=\"black\" points=\"233.94,-62.34 244.49,-63.25 236.8,-55.96 233.94,-62.34\"/>\n</g>\n<!-- 139765229793488 -->\n<g id=\"node8\" class=\"node\">\n<title>139765229793488</title>\n<polygon fill=\"none\" stroke=\"black\" points=\"1075,-109.5 1075,-145.5 1260,-145.5 1260,-109.5 1075,-109.5\"/>\n<text text-anchor=\"middle\" x=\"1086.5\" y=\"-123.8\" font-family=\"Times,serif\" font-size=\"14.00\">n</text>\n<polyline fill=\"none\" stroke=\"black\" points=\"1098,-109.5 1098,-145.5 \"/>\n<text text-anchor=\"middle\" x=\"1138\" y=\"-123.8\" font-family=\"Times,serif\" font-size=\"14.00\">data 0.8814</text>\n<polyline fill=\"none\" stroke=\"black\" points=\"1178,-109.5 1178,-145.5 \"/>\n<text text-anchor=\"middle\" x=\"1219\" y=\"-123.8\" font-family=\"Times,serif\" font-size=\"14.00\">grad 0.5000</text>\n</g>\n<!-- 139765229749968tanh -->\n<g id=\"node11\" class=\"node\">\n<title>139765229749968tanh</title>\n<ellipse fill=\"none\" stroke=\"black\" cx=\"1323\" cy=\"-127.5\" rx=\"27\" ry=\"18\"/>\n<text text-anchor=\"middle\" x=\"1323\" y=\"-123.8\" font-family=\"Times,serif\" font-size=\"14.00\">tanh</text>\n</g>\n<!-- 139765229793488&#45;&gt;139765229749968tanh -->\n<g id=\"edge10\" class=\"edge\">\n<title>139765229793488&#45;&gt;139765229749968tanh</title>\n<path fill=\"none\" stroke=\"black\" d=\"M1260.01,-127.5C1269.01,-127.5 1277.74,-127.5 1285.66,-127.5\"/>\n<polygon fill=\"black\" stroke=\"black\" points=\"1285.91,-131 1295.91,-127.5 1285.91,-124 1285.91,-131\"/>\n</g>\n<!-- 139765229793488+&#45;&gt;139765229793488 -->\n<g id=\"edge3\" class=\"edge\">\n<title>139765229793488+&#45;&gt;139765229793488</title>\n<path fill=\"none\" stroke=\"black\" d=\"M1039.04,-127.5C1046.58,-127.5 1055.3,-127.5 1064.57,-127.5\"/>\n<polygon fill=\"black\" stroke=\"black\" points=\"1064.81,-131 1074.81,-127.5 1064.81,-124 1064.81,-131\"/>\n</g>\n<!-- 139765229749968 -->\n<g id=\"node10\" class=\"node\">\n<title>139765229749968</title>\n<polygon fill=\"none\" stroke=\"black\" points=\"1386,-109.5 1386,-145.5 1571,-145.5 1571,-109.5 1386,-109.5\"/>\n<text text-anchor=\"middle\" x=\"1397.5\" y=\"-123.8\" font-family=\"Times,serif\" font-size=\"14.00\">o</text>\n<polyline fill=\"none\" stroke=\"black\" points=\"1409,-109.5 1409,-145.5 \"/>\n<text text-anchor=\"middle\" x=\"1449\" y=\"-123.8\" font-family=\"Times,serif\" font-size=\"14.00\">data 0.7071</text>\n<polyline fill=\"none\" stroke=\"black\" points=\"1489,-109.5 1489,-145.5 \"/>\n<text text-anchor=\"middle\" x=\"1530\" y=\"-123.8\" font-family=\"Times,serif\" font-size=\"14.00\">grad 1.0000</text>\n</g>\n<!-- 139765229749968tanh&#45;&gt;139765229749968 -->\n<g id=\"edge4\" class=\"edge\">\n<title>139765229749968tanh&#45;&gt;139765229749968</title>\n<path fill=\"none\" stroke=\"black\" d=\"M1350.04,-127.5C1357.58,-127.5 1366.3,-127.5 1375.57,-127.5\"/>\n<polygon fill=\"black\" stroke=\"black\" points=\"1375.81,-131 1385.81,-127.5 1375.81,-124 1375.81,-131\"/>\n</g>\n<!-- 139765229793776 -->\n<g id=\"node12\" class=\"node\">\n<title>139765229793776</title>\n<polygon fill=\"none\" stroke=\"black\" points=\"332.5,-55.5 332.5,-91.5 547.5,-91.5 547.5,-55.5 332.5,-55.5\"/>\n<text text-anchor=\"middle\" x=\"359\" y=\"-69.8\" font-family=\"Times,serif\" font-size=\"14.00\">X2W2</text>\n<polyline fill=\"none\" stroke=\"black\" points=\"385.5,-55.5 385.5,-91.5 \"/>\n<text text-anchor=\"middle\" x=\"425.5\" y=\"-69.8\" font-family=\"Times,serif\" font-size=\"14.00\">data 0.0000</text>\n<polyline fill=\"none\" stroke=\"black\" points=\"465.5,-55.5 465.5,-91.5 \"/>\n<text text-anchor=\"middle\" x=\"506.5\" y=\"-69.8\" font-family=\"Times,serif\" font-size=\"14.00\">grad 0.5000</text>\n</g>\n<!-- 139765229793776&#45;&gt;139765229796944+ -->\n<g id=\"edge12\" class=\"edge\">\n<title>139765229793776&#45;&gt;139765229796944+</title>\n<path fill=\"none\" stroke=\"black\" d=\"M547.84,-90.37C558.01,-91.98 567.76,-93.51 576.44,-94.89\"/>\n<polygon fill=\"black\" stroke=\"black\" points=\"576.05,-98.37 586.47,-96.47 577.14,-91.45 576.05,-98.37\"/>\n</g>\n<!-- 139765229793776*&#45;&gt;139765229793776 -->\n<g id=\"edge5\" class=\"edge\">\n<title>139765229793776*&#45;&gt;139765229793776</title>\n<path fill=\"none\" stroke=\"black\" d=\"M294.34,-73.5C302.51,-73.5 312.08,-73.5 322.36,-73.5\"/>\n<polygon fill=\"black\" stroke=\"black\" points=\"322.39,-77 332.39,-73.5 322.39,-70 322.39,-77\"/>\n</g>\n<!-- 139765229782976 -->\n<g id=\"node14\" class=\"node\">\n<title>139765229782976</title>\n<polygon fill=\"none\" stroke=\"black\" points=\"712.5,-137.5 712.5,-173.5 912.5,-173.5 912.5,-137.5 712.5,-137.5\"/>\n<text text-anchor=\"middle\" x=\"731.5\" y=\"-151.8\" font-family=\"Times,serif\" font-size=\"14.00\">bias</text>\n<polyline fill=\"none\" stroke=\"black\" points=\"750.5,-137.5 750.5,-173.5 \"/>\n<text text-anchor=\"middle\" x=\"790.5\" y=\"-151.8\" font-family=\"Times,serif\" font-size=\"14.00\">data 6.8814</text>\n<polyline fill=\"none\" stroke=\"black\" points=\"830.5,-137.5 830.5,-173.5 \"/>\n<text text-anchor=\"middle\" x=\"871.5\" y=\"-151.8\" font-family=\"Times,serif\" font-size=\"14.00\">grad 0.5000</text>\n</g>\n<!-- 139765229782976&#45;&gt;139765229793488+ -->\n<g id=\"edge6\" class=\"edge\">\n<title>139765229782976&#45;&gt;139765229793488+</title>\n<path fill=\"none\" stroke=\"black\" d=\"M912.54,-141.46C934.96,-138.28 957.36,-135.1 975.12,-132.59\"/>\n<polygon fill=\"black\" stroke=\"black\" points=\"975.86,-136.02 985.27,-131.15 974.88,-129.09 975.86,-136.02\"/>\n</g>\n<!-- 139765229783024 -->\n<g id=\"node15\" class=\"node\">\n<title>139765229783024</title>\n<polygon fill=\"none\" stroke=\"black\" points=\"2.5,-110.5 2.5,-146.5 201.5,-146.5 201.5,-110.5 2.5,-110.5\"/>\n<text text-anchor=\"middle\" x=\"19\" y=\"-124.8\" font-family=\"Times,serif\" font-size=\"14.00\">X1</text>\n<polyline fill=\"none\" stroke=\"black\" points=\"35.5,-110.5 35.5,-146.5 \"/>\n<text text-anchor=\"middle\" x=\"75.5\" y=\"-124.8\" font-family=\"Times,serif\" font-size=\"14.00\">data 2.0000</text>\n<polyline fill=\"none\" stroke=\"black\" points=\"115.5,-110.5 115.5,-146.5 \"/>\n<text text-anchor=\"middle\" x=\"158.5\" y=\"-124.8\" font-family=\"Times,serif\" font-size=\"14.00\">grad &#45;1.5000</text>\n</g>\n<!-- 139765229783024&#45;&gt;139765229796992* -->\n<g id=\"edge14\" class=\"edge\">\n<title>139765229783024&#45;&gt;139765229796992*</title>\n<path fill=\"none\" stroke=\"black\" d=\"M201.58,-128.5C211.59,-128.5 221.24,-128.5 229.89,-128.5\"/>\n<polygon fill=\"black\" stroke=\"black\" points=\"229.9,-132 239.9,-128.5 229.9,-125 229.9,-132\"/>\n</g>\n</g>\n</svg>\n",
            "text/plain": [
              "<graphviz.graphs.Digraph at 0x7f1da0dfb670>"
            ]
          },
          "metadata": {},
          "execution_count": 27
        }
      ]
    },
    {
      "cell_type": "code",
      "source": [
        "# inputs x1,x2\n",
        "x1 = Value(2.0, label='x1')\n",
        "x2 = Value(0.0, label='x2')\n",
        "# weights w1,w2\n",
        "w1 = Value(-3.0, label='w1')\n",
        "w2 = Value(1.0, label='w2')\n",
        "# bias of the neuron\n",
        "b = Value(6.8813735870195432, label='b')\n",
        "# x1*w1 + x2*w2 + b\n",
        "x1w1 = x1*w1; x1w1.label = 'x1*w1'\n",
        "x2w2 = x2*w2; x2w2.label = 'x2*w2'\n",
        "x1w1x2w2 = x1w1 + x2w2; x1w1x2w2.label = 'x1*w1 + x2*w2'\n",
        "n = x1w1x2w2 + b; n.label = 'n'\n",
        "# ----\n",
        "e = (2*n).exp()\n",
        "o = (e - 1) / (e + 1)\n",
        "# ----\n",
        "o.label = 'o'\n",
        "o.backward()\n",
        "draw_dot(o)"
      ],
      "metadata": {
        "id": "OaebWnTrHkxw",
        "outputId": "a2e53043-7443-43de-ebb5-273e72f98e8e",
        "colab": {
          "base_uri": "https://localhost:8080/",
          "height": 356
        }
      },
      "execution_count": 29,
      "outputs": [
        {
          "output_type": "execute_result",
          "data": {
            "image/svg+xml": "<?xml version=\"1.0\" encoding=\"UTF-8\" standalone=\"no\"?>\n<!DOCTYPE svg PUBLIC \"-//W3C//DTD SVG 1.1//EN\"\n \"http://www.w3.org/Graphics/SVG/1.1/DTD/svg11.dtd\">\n<!-- Generated by graphviz version 2.43.0 (0)\n -->\n<!-- Title: %3 Pages: 1 -->\n<svg width=\"2944pt\" height=\"236pt\"\n viewBox=\"0.00 0.00 2944.00 236.00\" xmlns=\"http://www.w3.org/2000/svg\" xmlns:xlink=\"http://www.w3.org/1999/xlink\">\n<g id=\"graph0\" class=\"graph\" transform=\"scale(1 1) rotate(0) translate(4 232)\">\n<title>%3</title>\n<polygon fill=\"white\" stroke=\"transparent\" points=\"-4,4 -4,-232 2940,-232 2940,4 -4,4\"/>\n<!-- 139763123274752 -->\n<g id=\"node1\" class=\"node\">\n<title>139763123274752</title>\n<polygon fill=\"none\" stroke=\"black\" points=\"326,-55.5 326,-91.5 546,-91.5 546,-55.5 326,-55.5\"/>\n<text text-anchor=\"middle\" x=\"352.5\" y=\"-69.8\" font-family=\"Times,serif\" font-size=\"14.00\">x1*w1</text>\n<polyline fill=\"none\" stroke=\"black\" points=\"379,-55.5 379,-91.5 \"/>\n<text text-anchor=\"middle\" x=\"421.5\" y=\"-69.8\" font-family=\"Times,serif\" font-size=\"14.00\">data &#45;6.0000</text>\n<polyline fill=\"none\" stroke=\"black\" points=\"464,-55.5 464,-91.5 \"/>\n<text text-anchor=\"middle\" x=\"505\" y=\"-69.8\" font-family=\"Times,serif\" font-size=\"14.00\">grad 0.5000</text>\n</g>\n<!-- 139763123266416+ -->\n<g id=\"node23\" class=\"node\">\n<title>139763123266416+</title>\n<ellipse fill=\"none\" stroke=\"black\" cx=\"609\" cy=\"-100.5\" rx=\"27\" ry=\"18\"/>\n<text text-anchor=\"middle\" x=\"609\" y=\"-96.8\" font-family=\"Times,serif\" font-size=\"14.00\">+</text>\n</g>\n<!-- 139763123274752&#45;&gt;139763123266416+ -->\n<g id=\"edge23\" class=\"edge\">\n<title>139763123274752&#45;&gt;139763123266416+</title>\n<path fill=\"none\" stroke=\"black\" d=\"M546.27,-90.75C555.64,-92.23 564.6,-93.65 572.65,-94.92\"/>\n<polygon fill=\"black\" stroke=\"black\" points=\"572.23,-98.4 582.65,-96.5 573.32,-91.48 572.23,-98.4\"/>\n</g>\n<!-- 139763123274752* -->\n<g id=\"node2\" class=\"node\">\n<title>139763123274752*</title>\n<ellipse fill=\"none\" stroke=\"black\" cx=\"263\" cy=\"-73.5\" rx=\"27\" ry=\"18\"/>\n<text text-anchor=\"middle\" x=\"263\" y=\"-69.8\" font-family=\"Times,serif\" font-size=\"14.00\">*</text>\n</g>\n<!-- 139763123274752*&#45;&gt;139763123274752 -->\n<g id=\"edge1\" class=\"edge\">\n<title>139763123274752*&#45;&gt;139763123274752</title>\n<path fill=\"none\" stroke=\"black\" d=\"M290.34,-73.5C297.77,-73.5 306.37,-73.5 315.6,-73.5\"/>\n<polygon fill=\"black\" stroke=\"black\" points=\"315.84,-77 325.84,-73.5 315.84,-70 315.84,-77\"/>\n</g>\n<!-- 139763123274272 -->\n<g id=\"node3\" class=\"node\">\n<title>139763123274272</title>\n<polygon fill=\"none\" stroke=\"black\" points=\"4,-165.5 4,-201.5 196,-201.5 196,-165.5 4,-165.5\"/>\n<text text-anchor=\"middle\" x=\"19\" y=\"-179.8\" font-family=\"Times,serif\" font-size=\"14.00\">x2</text>\n<polyline fill=\"none\" stroke=\"black\" points=\"34,-165.5 34,-201.5 \"/>\n<text text-anchor=\"middle\" x=\"74\" y=\"-179.8\" font-family=\"Times,serif\" font-size=\"14.00\">data 0.0000</text>\n<polyline fill=\"none\" stroke=\"black\" points=\"114,-165.5 114,-201.5 \"/>\n<text text-anchor=\"middle\" x=\"155\" y=\"-179.8\" font-family=\"Times,serif\" font-size=\"14.00\">grad 0.5000</text>\n</g>\n<!-- 139763123274944* -->\n<g id=\"node16\" class=\"node\">\n<title>139763123274944*</title>\n<ellipse fill=\"none\" stroke=\"black\" cx=\"263\" cy=\"-128.5\" rx=\"27\" ry=\"18\"/>\n<text text-anchor=\"middle\" x=\"263\" y=\"-124.8\" font-family=\"Times,serif\" font-size=\"14.00\">*</text>\n</g>\n<!-- 139763123274272&#45;&gt;139763123274944* -->\n<g id=\"edge13\" class=\"edge\">\n<title>139763123274272&#45;&gt;139763123274944*</title>\n<path fill=\"none\" stroke=\"black\" d=\"M172.53,-165.44C181.84,-162.67 191.2,-159.67 200,-156.5 210.53,-152.71 221.75,-147.9 231.72,-143.33\"/>\n<polygon fill=\"black\" stroke=\"black\" points=\"233.25,-146.48 240.82,-139.07 230.28,-140.14 233.25,-146.48\"/>\n</g>\n<!-- 139763123267664 -->\n<g id=\"node4\" class=\"node\">\n<title>139763123267664</title>\n<polygon fill=\"none\" stroke=\"black\" points=\"1692.5,-136.5 1692.5,-172.5 1874.5,-172.5 1874.5,-136.5 1692.5,-136.5\"/>\n<text text-anchor=\"middle\" x=\"1702.5\" y=\"-150.8\" font-family=\"Times,serif\" font-size=\"14.00\"> </text>\n<polyline fill=\"none\" stroke=\"black\" points=\"1712.5,-136.5 1712.5,-172.5 \"/>\n<text text-anchor=\"middle\" x=\"1752.5\" y=\"-150.8\" font-family=\"Times,serif\" font-size=\"14.00\">data 5.8284</text>\n<polyline fill=\"none\" stroke=\"black\" points=\"1792.5,-136.5 1792.5,-172.5 \"/>\n<text text-anchor=\"middle\" x=\"1833.5\" y=\"-150.8\" font-family=\"Times,serif\" font-size=\"14.00\">grad 0.0429</text>\n</g>\n<!-- 139763123267184+ -->\n<g id=\"node8\" class=\"node\">\n<title>139763123267184+</title>\n<ellipse fill=\"none\" stroke=\"black\" cx=\"1940\" cy=\"-126.5\" rx=\"27\" ry=\"18\"/>\n<text text-anchor=\"middle\" x=\"1940\" y=\"-122.8\" font-family=\"Times,serif\" font-size=\"14.00\">+</text>\n</g>\n<!-- 139763123267664&#45;&gt;139763123267184+ -->\n<g id=\"edge11\" class=\"edge\">\n<title>139763123267664&#45;&gt;139763123267184+</title>\n<path fill=\"none\" stroke=\"black\" d=\"M1874.82,-138.13C1885.07,-136.27 1895.01,-134.47 1903.88,-132.87\"/>\n<polygon fill=\"black\" stroke=\"black\" points=\"1904.54,-136.3 1913.75,-131.08 1903.29,-129.42 1904.54,-136.3\"/>\n</g>\n<!-- 139763123267424+ -->\n<g id=\"node21\" class=\"node\">\n<title>139763123267424+</title>\n<ellipse fill=\"none\" stroke=\"black\" cx=\"1940\" cy=\"-181.5\" rx=\"27\" ry=\"18\"/>\n<text text-anchor=\"middle\" x=\"1940\" y=\"-177.8\" font-family=\"Times,serif\" font-size=\"14.00\">+</text>\n</g>\n<!-- 139763123267664&#45;&gt;139763123267424+ -->\n<g id=\"edge16\" class=\"edge\">\n<title>139763123267664&#45;&gt;139763123267424+</title>\n<path fill=\"none\" stroke=\"black\" d=\"M1874.82,-170.28C1885.07,-172.08 1895.01,-173.81 1903.88,-175.36\"/>\n<polygon fill=\"black\" stroke=\"black\" points=\"1903.3,-178.81 1913.75,-177.09 1904.5,-171.92 1903.3,-178.81\"/>\n</g>\n<!-- 139763123267664exp -->\n<g id=\"node5\" class=\"node\">\n<title>139763123267664exp</title>\n<ellipse fill=\"none\" stroke=\"black\" cx=\"1627\" cy=\"-154.5\" rx=\"27\" ry=\"18\"/>\n<text text-anchor=\"middle\" x=\"1627\" y=\"-150.8\" font-family=\"Times,serif\" font-size=\"14.00\">exp</text>\n</g>\n<!-- 139763123267664exp&#45;&gt;139763123267664 -->\n<g id=\"edge2\" class=\"edge\">\n<title>139763123267664exp&#45;&gt;139763123267664</title>\n<path fill=\"none\" stroke=\"black\" d=\"M1654.21,-154.5C1662.34,-154.5 1671.85,-154.5 1681.94,-154.5\"/>\n<polygon fill=\"black\" stroke=\"black\" points=\"1682.19,-158 1692.19,-154.5 1682.19,-151 1682.19,-158\"/>\n</g>\n<!-- 139763123274320 -->\n<g id=\"node6\" class=\"node\">\n<title>139763123274320</title>\n<polygon fill=\"none\" stroke=\"black\" points=\"2.5,-110.5 2.5,-146.5 197.5,-146.5 197.5,-110.5 2.5,-110.5\"/>\n<text text-anchor=\"middle\" x=\"19\" y=\"-124.8\" font-family=\"Times,serif\" font-size=\"14.00\">w2</text>\n<polyline fill=\"none\" stroke=\"black\" points=\"35.5,-110.5 35.5,-146.5 \"/>\n<text text-anchor=\"middle\" x=\"75.5\" y=\"-124.8\" font-family=\"Times,serif\" font-size=\"14.00\">data 1.0000</text>\n<polyline fill=\"none\" stroke=\"black\" points=\"115.5,-110.5 115.5,-146.5 \"/>\n<text text-anchor=\"middle\" x=\"156.5\" y=\"-124.8\" font-family=\"Times,serif\" font-size=\"14.00\">grad 0.0000</text>\n</g>\n<!-- 139763123274320&#45;&gt;139763123274944* -->\n<g id=\"edge27\" class=\"edge\">\n<title>139763123274320&#45;&gt;139763123274944*</title>\n<path fill=\"none\" stroke=\"black\" d=\"M197.91,-128.5C207.65,-128.5 217.05,-128.5 225.52,-128.5\"/>\n<polygon fill=\"black\" stroke=\"black\" points=\"225.7,-132 235.7,-128.5 225.7,-125 225.7,-132\"/>\n</g>\n<!-- 139763123267184 -->\n<g id=\"node7\" class=\"node\">\n<title>139763123267184</title>\n<polygon fill=\"none\" stroke=\"black\" points=\"2003,-108.5 2003,-144.5 2189,-144.5 2189,-108.5 2003,-108.5\"/>\n<text text-anchor=\"middle\" x=\"2013\" y=\"-122.8\" font-family=\"Times,serif\" font-size=\"14.00\"> </text>\n<polyline fill=\"none\" stroke=\"black\" points=\"2023,-108.5 2023,-144.5 \"/>\n<text text-anchor=\"middle\" x=\"2063\" y=\"-122.8\" font-family=\"Times,serif\" font-size=\"14.00\">data 6.8284</text>\n<polyline fill=\"none\" stroke=\"black\" points=\"2103,-108.5 2103,-144.5 \"/>\n<text text-anchor=\"middle\" x=\"2146\" y=\"-122.8\" font-family=\"Times,serif\" font-size=\"14.00\">grad &#45;0.1036</text>\n</g>\n<!-- 139763123266992**&#45;1 -->\n<g id=\"node26\" class=\"node\">\n<title>139763123266992**&#45;1</title>\n<ellipse fill=\"none\" stroke=\"black\" cx=\"2316\" cy=\"-126.5\" rx=\"27\" ry=\"18\"/>\n<text text-anchor=\"middle\" x=\"2316\" y=\"-122.8\" font-family=\"Times,serif\" font-size=\"14.00\">**&#45;1</text>\n</g>\n<!-- 139763123267184&#45;&gt;139763123266992**&#45;1 -->\n<g id=\"edge19\" class=\"edge\">\n<title>139763123267184&#45;&gt;139763123266992**&#45;1</title>\n<path fill=\"none\" stroke=\"black\" d=\"M2189.14,-126.5C2220.72,-126.5 2254.24,-126.5 2278.74,-126.5\"/>\n<polygon fill=\"black\" stroke=\"black\" points=\"2278.98,-130 2288.98,-126.5 2278.98,-123 2278.98,-130\"/>\n</g>\n<!-- 139763123267184+&#45;&gt;139763123267184 -->\n<g id=\"edge3\" class=\"edge\">\n<title>139763123267184+&#45;&gt;139763123267184</title>\n<path fill=\"none\" stroke=\"black\" d=\"M1967.12,-126.5C1974.62,-126.5 1983.29,-126.5 1992.5,-126.5\"/>\n<polygon fill=\"black\" stroke=\"black\" points=\"1992.69,-130 2002.69,-126.5 1992.69,-123 1992.69,-130\"/>\n</g>\n<!-- 139763123274368 -->\n<g id=\"node9\" class=\"node\">\n<title>139763123274368</title>\n<polygon fill=\"none\" stroke=\"black\" points=\"2,-55.5 2,-91.5 198,-91.5 198,-55.5 2,-55.5\"/>\n<text text-anchor=\"middle\" x=\"17\" y=\"-69.8\" font-family=\"Times,serif\" font-size=\"14.00\">x1</text>\n<polyline fill=\"none\" stroke=\"black\" points=\"32,-55.5 32,-91.5 \"/>\n<text text-anchor=\"middle\" x=\"72\" y=\"-69.8\" font-family=\"Times,serif\" font-size=\"14.00\">data 2.0000</text>\n<polyline fill=\"none\" stroke=\"black\" points=\"112,-55.5 112,-91.5 \"/>\n<text text-anchor=\"middle\" x=\"155\" y=\"-69.8\" font-family=\"Times,serif\" font-size=\"14.00\">grad &#45;1.5000</text>\n</g>\n<!-- 139763123274368&#45;&gt;139763123274752* -->\n<g id=\"edge21\" class=\"edge\">\n<title>139763123274368&#45;&gt;139763123274752*</title>\n<path fill=\"none\" stroke=\"black\" d=\"M198.37,-73.5C208.05,-73.5 217.4,-73.5 225.8,-73.5\"/>\n<polygon fill=\"black\" stroke=\"black\" points=\"225.91,-77 235.91,-73.5 225.91,-70 225.91,-77\"/>\n</g>\n<!-- 139763123266704 -->\n<g id=\"node10\" class=\"node\">\n<title>139763123266704</title>\n<polygon fill=\"none\" stroke=\"black\" points=\"1072.5,-164.5 1072.5,-200.5 1254.5,-200.5 1254.5,-164.5 1072.5,-164.5\"/>\n<text text-anchor=\"middle\" x=\"1082.5\" y=\"-178.8\" font-family=\"Times,serif\" font-size=\"14.00\"> </text>\n<polyline fill=\"none\" stroke=\"black\" points=\"1092.5,-164.5 1092.5,-200.5 \"/>\n<text text-anchor=\"middle\" x=\"1132.5\" y=\"-178.8\" font-family=\"Times,serif\" font-size=\"14.00\">data 2.0000</text>\n<polyline fill=\"none\" stroke=\"black\" points=\"1172.5,-164.5 1172.5,-200.5 \"/>\n<text text-anchor=\"middle\" x=\"1213.5\" y=\"-178.8\" font-family=\"Times,serif\" font-size=\"14.00\">grad 0.2203</text>\n</g>\n<!-- 139763123266848* -->\n<g id=\"node19\" class=\"node\">\n<title>139763123266848*</title>\n<ellipse fill=\"none\" stroke=\"black\" cx=\"1319\" cy=\"-154.5\" rx=\"27\" ry=\"18\"/>\n<text text-anchor=\"middle\" x=\"1319\" y=\"-150.8\" font-family=\"Times,serif\" font-size=\"14.00\">*</text>\n</g>\n<!-- 139763123266704&#45;&gt;139763123266848* -->\n<g id=\"edge20\" class=\"edge\">\n<title>139763123266704&#45;&gt;139763123266848*</title>\n<path fill=\"none\" stroke=\"black\" d=\"M1254.68,-166.05C1264.61,-164.24 1274.23,-162.48 1282.84,-160.91\"/>\n<polygon fill=\"black\" stroke=\"black\" points=\"1283.6,-164.33 1292.81,-159.09 1282.35,-157.45 1283.6,-164.33\"/>\n</g>\n<!-- 139763123267232 -->\n<g id=\"node11\" class=\"node\">\n<title>139763123267232</title>\n<polygon fill=\"none\" stroke=\"black\" points=\"1690.5,-81.5 1690.5,-117.5 1876.5,-117.5 1876.5,-81.5 1690.5,-81.5\"/>\n<text text-anchor=\"middle\" x=\"1700.5\" y=\"-95.8\" font-family=\"Times,serif\" font-size=\"14.00\"> </text>\n<polyline fill=\"none\" stroke=\"black\" points=\"1710.5,-81.5 1710.5,-117.5 \"/>\n<text text-anchor=\"middle\" x=\"1750.5\" y=\"-95.8\" font-family=\"Times,serif\" font-size=\"14.00\">data 1.0000</text>\n<polyline fill=\"none\" stroke=\"black\" points=\"1790.5,-81.5 1790.5,-117.5 \"/>\n<text text-anchor=\"middle\" x=\"1833.5\" y=\"-95.8\" font-family=\"Times,serif\" font-size=\"14.00\">grad &#45;0.1036</text>\n</g>\n<!-- 139763123267232&#45;&gt;139763123267184+ -->\n<g id=\"edge12\" class=\"edge\">\n<title>139763123267232&#45;&gt;139763123267184+</title>\n<path fill=\"none\" stroke=\"black\" d=\"M1876.6,-115.6C1886.15,-117.26 1895.37,-118.88 1903.68,-120.33\"/>\n<polygon fill=\"black\" stroke=\"black\" points=\"1903.2,-123.8 1913.65,-122.07 1904.4,-116.9 1903.2,-123.8\"/>\n</g>\n<!-- 139763123266224 -->\n<g id=\"node12\" class=\"node\">\n<title>139763123266224</title>\n<polygon fill=\"none\" stroke=\"black\" points=\"2751,-135.5 2751,-171.5 2936,-171.5 2936,-135.5 2751,-135.5\"/>\n<text text-anchor=\"middle\" x=\"2762.5\" y=\"-149.8\" font-family=\"Times,serif\" font-size=\"14.00\">o</text>\n<polyline fill=\"none\" stroke=\"black\" points=\"2774,-135.5 2774,-171.5 \"/>\n<text text-anchor=\"middle\" x=\"2814\" y=\"-149.8\" font-family=\"Times,serif\" font-size=\"14.00\">data 0.7071</text>\n<polyline fill=\"none\" stroke=\"black\" points=\"2854,-135.5 2854,-171.5 \"/>\n<text text-anchor=\"middle\" x=\"2895\" y=\"-149.8\" font-family=\"Times,serif\" font-size=\"14.00\">grad 1.0000</text>\n</g>\n<!-- 139763123266224* -->\n<g id=\"node13\" class=\"node\">\n<title>139763123266224*</title>\n<ellipse fill=\"none\" stroke=\"black\" cx=\"2688\" cy=\"-153.5\" rx=\"27\" ry=\"18\"/>\n<text text-anchor=\"middle\" x=\"2688\" y=\"-149.8\" font-family=\"Times,serif\" font-size=\"14.00\">*</text>\n</g>\n<!-- 139763123266224*&#45;&gt;139763123266224 -->\n<g id=\"edge4\" class=\"edge\">\n<title>139763123266224*&#45;&gt;139763123266224</title>\n<path fill=\"none\" stroke=\"black\" d=\"M2715.04,-153.5C2722.58,-153.5 2731.3,-153.5 2740.57,-153.5\"/>\n<polygon fill=\"black\" stroke=\"black\" points=\"2740.81,-157 2750.81,-153.5 2740.81,-150 2740.81,-157\"/>\n</g>\n<!-- 139763123274416 -->\n<g id=\"node14\" class=\"node\">\n<title>139763123274416</title>\n<polygon fill=\"none\" stroke=\"black\" points=\"0,-0.5 0,-36.5 200,-36.5 200,-0.5 0,-0.5\"/>\n<text text-anchor=\"middle\" x=\"16.5\" y=\"-14.8\" font-family=\"Times,serif\" font-size=\"14.00\">w1</text>\n<polyline fill=\"none\" stroke=\"black\" points=\"33,-0.5 33,-36.5 \"/>\n<text text-anchor=\"middle\" x=\"75.5\" y=\"-14.8\" font-family=\"Times,serif\" font-size=\"14.00\">data &#45;3.0000</text>\n<polyline fill=\"none\" stroke=\"black\" points=\"118,-0.5 118,-36.5 \"/>\n<text text-anchor=\"middle\" x=\"159\" y=\"-14.8\" font-family=\"Times,serif\" font-size=\"14.00\">grad 1.0000</text>\n</g>\n<!-- 139763123274416&#45;&gt;139763123274752* -->\n<g id=\"edge22\" class=\"edge\">\n<title>139763123274416&#45;&gt;139763123274752*</title>\n<path fill=\"none\" stroke=\"black\" d=\"M172.53,-36.56C181.84,-39.33 191.2,-42.33 200,-45.5 210.53,-49.29 221.75,-54.1 231.72,-58.67\"/>\n<polygon fill=\"black\" stroke=\"black\" points=\"230.28,-61.86 240.82,-62.93 233.25,-55.52 230.28,-61.86\"/>\n</g>\n<!-- 139763123274944 -->\n<g id=\"node15\" class=\"node\">\n<title>139763123274944</title>\n<polygon fill=\"none\" stroke=\"black\" points=\"328.5,-110.5 328.5,-146.5 543.5,-146.5 543.5,-110.5 328.5,-110.5\"/>\n<text text-anchor=\"middle\" x=\"355\" y=\"-124.8\" font-family=\"Times,serif\" font-size=\"14.00\">x2*w2</text>\n<polyline fill=\"none\" stroke=\"black\" points=\"381.5,-110.5 381.5,-146.5 \"/>\n<text text-anchor=\"middle\" x=\"421.5\" y=\"-124.8\" font-family=\"Times,serif\" font-size=\"14.00\">data 0.0000</text>\n<polyline fill=\"none\" stroke=\"black\" points=\"461.5,-110.5 461.5,-146.5 \"/>\n<text text-anchor=\"middle\" x=\"502.5\" y=\"-124.8\" font-family=\"Times,serif\" font-size=\"14.00\">grad 0.5000</text>\n</g>\n<!-- 139763123274944&#45;&gt;139763123266416+ -->\n<g id=\"edge25\" class=\"edge\">\n<title>139763123274944&#45;&gt;139763123266416+</title>\n<path fill=\"none\" stroke=\"black\" d=\"M543.84,-111.01C554.01,-109.34 563.76,-107.74 572.44,-106.32\"/>\n<polygon fill=\"black\" stroke=\"black\" points=\"573.17,-109.75 582.47,-104.68 572.04,-102.84 573.17,-109.75\"/>\n</g>\n<!-- 139763123274944*&#45;&gt;139763123274944 -->\n<g id=\"edge5\" class=\"edge\">\n<title>139763123274944*&#45;&gt;139763123274944</title>\n<path fill=\"none\" stroke=\"black\" d=\"M290.34,-128.5C298.51,-128.5 308.08,-128.5 318.36,-128.5\"/>\n<polygon fill=\"black\" stroke=\"black\" points=\"318.39,-132 328.39,-128.5 318.39,-125 318.39,-132\"/>\n</g>\n<!-- 139763123274464 -->\n<g id=\"node17\" class=\"node\">\n<title>139763123274464</title>\n<polygon fill=\"none\" stroke=\"black\" points=\"716,-137.5 716,-173.5 901,-173.5 901,-137.5 716,-137.5\"/>\n<text text-anchor=\"middle\" x=\"727.5\" y=\"-151.8\" font-family=\"Times,serif\" font-size=\"14.00\">b</text>\n<polyline fill=\"none\" stroke=\"black\" points=\"739,-137.5 739,-173.5 \"/>\n<text text-anchor=\"middle\" x=\"779\" y=\"-151.8\" font-family=\"Times,serif\" font-size=\"14.00\">data 6.8814</text>\n<polyline fill=\"none\" stroke=\"black\" points=\"819,-137.5 819,-173.5 \"/>\n<text text-anchor=\"middle\" x=\"860\" y=\"-151.8\" font-family=\"Times,serif\" font-size=\"14.00\">grad 0.5000</text>\n</g>\n<!-- 139763123266512+ -->\n<g id=\"node28\" class=\"node\">\n<title>139763123266512+</title>\n<ellipse fill=\"none\" stroke=\"black\" cx=\"1008\" cy=\"-127.5\" rx=\"27\" ry=\"18\"/>\n<text text-anchor=\"middle\" x=\"1008\" y=\"-123.8\" font-family=\"Times,serif\" font-size=\"14.00\">+</text>\n</g>\n<!-- 139763123274464&#45;&gt;139763123266512+ -->\n<g id=\"edge26\" class=\"edge\">\n<title>139763123274464&#45;&gt;139763123266512+</title>\n<path fill=\"none\" stroke=\"black\" d=\"M901.02,-142.52C926,-138.98 951.59,-135.36 971.37,-132.55\"/>\n<polygon fill=\"black\" stroke=\"black\" points=\"972.03,-135.99 981.43,-131.12 971.04,-129.06 972.03,-135.99\"/>\n</g>\n<!-- 139763123266848 -->\n<g id=\"node18\" class=\"node\">\n<title>139763123266848</title>\n<polygon fill=\"none\" stroke=\"black\" points=\"1382,-136.5 1382,-172.5 1564,-172.5 1564,-136.5 1382,-136.5\"/>\n<text text-anchor=\"middle\" x=\"1392\" y=\"-150.8\" font-family=\"Times,serif\" font-size=\"14.00\"> </text>\n<polyline fill=\"none\" stroke=\"black\" points=\"1402,-136.5 1402,-172.5 \"/>\n<text text-anchor=\"middle\" x=\"1442\" y=\"-150.8\" font-family=\"Times,serif\" font-size=\"14.00\">data 1.7627</text>\n<polyline fill=\"none\" stroke=\"black\" points=\"1482,-136.5 1482,-172.5 \"/>\n<text text-anchor=\"middle\" x=\"1523\" y=\"-150.8\" font-family=\"Times,serif\" font-size=\"14.00\">grad 0.2500</text>\n</g>\n<!-- 139763123266848&#45;&gt;139763123267664exp -->\n<g id=\"edge17\" class=\"edge\">\n<title>139763123266848&#45;&gt;139763123267664exp</title>\n<path fill=\"none\" stroke=\"black\" d=\"M1564.18,-154.5C1573.14,-154.5 1581.83,-154.5 1589.73,-154.5\"/>\n<polygon fill=\"black\" stroke=\"black\" points=\"1589.96,-158 1599.96,-154.5 1589.96,-151 1589.96,-158\"/>\n</g>\n<!-- 139763123266848*&#45;&gt;139763123266848 -->\n<g id=\"edge6\" class=\"edge\">\n<title>139763123266848*&#45;&gt;139763123266848</title>\n<path fill=\"none\" stroke=\"black\" d=\"M1346.13,-154.5C1353.67,-154.5 1362.39,-154.5 1371.64,-154.5\"/>\n<polygon fill=\"black\" stroke=\"black\" points=\"1371.87,-158 1381.87,-154.5 1371.87,-151 1371.87,-158\"/>\n</g>\n<!-- 139763123267424 -->\n<g id=\"node20\" class=\"node\">\n<title>139763123267424</title>\n<polygon fill=\"none\" stroke=\"black\" points=\"2225,-163.5 2225,-199.5 2407,-199.5 2407,-163.5 2225,-163.5\"/>\n<text text-anchor=\"middle\" x=\"2235\" y=\"-177.8\" font-family=\"Times,serif\" font-size=\"14.00\"> </text>\n<polyline fill=\"none\" stroke=\"black\" points=\"2245,-163.5 2245,-199.5 \"/>\n<text text-anchor=\"middle\" x=\"2285\" y=\"-177.8\" font-family=\"Times,serif\" font-size=\"14.00\">data 4.8284</text>\n<polyline fill=\"none\" stroke=\"black\" points=\"2325,-163.5 2325,-199.5 \"/>\n<text text-anchor=\"middle\" x=\"2366\" y=\"-177.8\" font-family=\"Times,serif\" font-size=\"14.00\">grad 0.1464</text>\n</g>\n<!-- 139763123267424&#45;&gt;139763123266224* -->\n<g id=\"edge15\" class=\"edge\">\n<title>139763123267424&#45;&gt;139763123266224*</title>\n<path fill=\"none\" stroke=\"black\" d=\"M2407.31,-174.9C2468.7,-170.37 2551.76,-164.19 2625,-158.5 2633.42,-157.85 2642.48,-157.13 2651.01,-156.44\"/>\n<polygon fill=\"black\" stroke=\"black\" points=\"2651.37,-159.92 2661.06,-155.63 2650.81,-152.94 2651.37,-159.92\"/>\n</g>\n<!-- 139763123267424+&#45;&gt;139763123267424 -->\n<g id=\"edge7\" class=\"edge\">\n<title>139763123267424+&#45;&gt;139763123267424</title>\n<path fill=\"none\" stroke=\"black\" d=\"M1967,-181.5C2017.46,-181.5 2131.06,-181.5 2214.81,-181.5\"/>\n<polygon fill=\"black\" stroke=\"black\" points=\"2214.87,-185 2224.87,-181.5 2214.87,-178 2214.87,-185\"/>\n</g>\n<!-- 139763123266416 -->\n<g id=\"node22\" class=\"node\">\n<title>139763123266416</title>\n<polygon fill=\"none\" stroke=\"black\" points=\"672,-82.5 672,-118.5 945,-118.5 945,-82.5 672,-82.5\"/>\n<text text-anchor=\"middle\" x=\"725\" y=\"-96.8\" font-family=\"Times,serif\" font-size=\"14.00\">x1*w1 + x2*w2</text>\n<polyline fill=\"none\" stroke=\"black\" points=\"778,-82.5 778,-118.5 \"/>\n<text text-anchor=\"middle\" x=\"820.5\" y=\"-96.8\" font-family=\"Times,serif\" font-size=\"14.00\">data &#45;6.0000</text>\n<polyline fill=\"none\" stroke=\"black\" points=\"863,-82.5 863,-118.5 \"/>\n<text text-anchor=\"middle\" x=\"904\" y=\"-96.8\" font-family=\"Times,serif\" font-size=\"14.00\">grad 0.5000</text>\n</g>\n<!-- 139763123266416&#45;&gt;139763123266512+ -->\n<g id=\"edge28\" class=\"edge\">\n<title>139763123266416&#45;&gt;139763123266512+</title>\n<path fill=\"none\" stroke=\"black\" d=\"M941.24,-118.51C952.12,-120 962.4,-121.4 971.45,-122.64\"/>\n<polygon fill=\"black\" stroke=\"black\" points=\"971.11,-126.13 981.49,-124.01 972.05,-119.19 971.11,-126.13\"/>\n</g>\n<!-- 139763123266416+&#45;&gt;139763123266416 -->\n<g id=\"edge8\" class=\"edge\">\n<title>139763123266416+&#45;&gt;139763123266416</title>\n<path fill=\"none\" stroke=\"black\" d=\"M636.23,-100.5C643.7,-100.5 652.41,-100.5 661.87,-100.5\"/>\n<polygon fill=\"black\" stroke=\"black\" points=\"661.98,-104 671.98,-100.5 661.98,-97 661.98,-104\"/>\n</g>\n<!-- 139763123267472 -->\n<g id=\"node24\" class=\"node\">\n<title>139763123267472</title>\n<polygon fill=\"none\" stroke=\"black\" points=\"1690,-191.5 1690,-227.5 1877,-227.5 1877,-191.5 1690,-191.5\"/>\n<text text-anchor=\"middle\" x=\"1700\" y=\"-205.8\" font-family=\"Times,serif\" font-size=\"14.00\"> </text>\n<polyline fill=\"none\" stroke=\"black\" points=\"1710,-191.5 1710,-227.5 \"/>\n<text text-anchor=\"middle\" x=\"1752.5\" y=\"-205.8\" font-family=\"Times,serif\" font-size=\"14.00\">data &#45;1.0000</text>\n<polyline fill=\"none\" stroke=\"black\" points=\"1795,-191.5 1795,-227.5 \"/>\n<text text-anchor=\"middle\" x=\"1836\" y=\"-205.8\" font-family=\"Times,serif\" font-size=\"14.00\">grad 0.1464</text>\n</g>\n<!-- 139763123267472&#45;&gt;139763123267424+ -->\n<g id=\"edge14\" class=\"edge\">\n<title>139763123267472&#45;&gt;139763123267424+</title>\n<path fill=\"none\" stroke=\"black\" d=\"M1877.05,-192.73C1886.54,-191.01 1895.71,-189.35 1903.95,-187.85\"/>\n<polygon fill=\"black\" stroke=\"black\" points=\"1904.64,-191.28 1913.85,-186.06 1903.39,-184.4 1904.64,-191.28\"/>\n</g>\n<!-- 139763123266992 -->\n<g id=\"node25\" class=\"node\">\n<title>139763123266992</title>\n<polygon fill=\"none\" stroke=\"black\" points=\"2443,-112.5 2443,-148.5 2625,-148.5 2625,-112.5 2443,-112.5\"/>\n<text text-anchor=\"middle\" x=\"2453\" y=\"-126.8\" font-family=\"Times,serif\" font-size=\"14.00\"> </text>\n<polyline fill=\"none\" stroke=\"black\" points=\"2463,-112.5 2463,-148.5 \"/>\n<text text-anchor=\"middle\" x=\"2503\" y=\"-126.8\" font-family=\"Times,serif\" font-size=\"14.00\">data 0.1464</text>\n<polyline fill=\"none\" stroke=\"black\" points=\"2543,-112.5 2543,-148.5 \"/>\n<text text-anchor=\"middle\" x=\"2584\" y=\"-126.8\" font-family=\"Times,serif\" font-size=\"14.00\">grad 4.8284</text>\n</g>\n<!-- 139763123266992&#45;&gt;139763123266224* -->\n<g id=\"edge24\" class=\"edge\">\n<title>139763123266992&#45;&gt;139763123266224*</title>\n<path fill=\"none\" stroke=\"black\" d=\"M2625.18,-144.15C2634.42,-145.54 2643.38,-146.9 2651.47,-148.12\"/>\n<polygon fill=\"black\" stroke=\"black\" points=\"2651.15,-151.61 2661.56,-149.65 2652.19,-144.69 2651.15,-151.61\"/>\n</g>\n<!-- 139763123266992**&#45;1&#45;&gt;139763123266992 -->\n<g id=\"edge9\" class=\"edge\">\n<title>139763123266992**&#45;1&#45;&gt;139763123266992</title>\n<path fill=\"none\" stroke=\"black\" d=\"M2343.05,-126.98C2365.53,-127.4 2399.48,-128.03 2432.5,-128.64\"/>\n<polygon fill=\"black\" stroke=\"black\" points=\"2432.64,-132.14 2442.7,-128.83 2432.77,-125.14 2432.64,-132.14\"/>\n</g>\n<!-- 139763123266512 -->\n<g id=\"node27\" class=\"node\">\n<title>139763123266512</title>\n<polygon fill=\"none\" stroke=\"black\" points=\"1071,-109.5 1071,-145.5 1256,-145.5 1256,-109.5 1071,-109.5\"/>\n<text text-anchor=\"middle\" x=\"1082.5\" y=\"-123.8\" font-family=\"Times,serif\" font-size=\"14.00\">n</text>\n<polyline fill=\"none\" stroke=\"black\" points=\"1094,-109.5 1094,-145.5 \"/>\n<text text-anchor=\"middle\" x=\"1134\" y=\"-123.8\" font-family=\"Times,serif\" font-size=\"14.00\">data 0.8814</text>\n<polyline fill=\"none\" stroke=\"black\" points=\"1174,-109.5 1174,-145.5 \"/>\n<text text-anchor=\"middle\" x=\"1215\" y=\"-123.8\" font-family=\"Times,serif\" font-size=\"14.00\">grad 0.5000</text>\n</g>\n<!-- 139763123266512&#45;&gt;139763123266848* -->\n<g id=\"edge18\" class=\"edge\">\n<title>139763123266512&#45;&gt;139763123266848*</title>\n<path fill=\"none\" stroke=\"black\" d=\"M1256.01,-143.6C1265.49,-145.26 1274.66,-146.88 1282.9,-148.33\"/>\n<polygon fill=\"black\" stroke=\"black\" points=\"1282.36,-151.78 1292.81,-150.07 1283.57,-144.89 1282.36,-151.78\"/>\n</g>\n<!-- 139763123266512+&#45;&gt;139763123266512 -->\n<g id=\"edge10\" class=\"edge\">\n<title>139763123266512+&#45;&gt;139763123266512</title>\n<path fill=\"none\" stroke=\"black\" d=\"M1035.04,-127.5C1042.58,-127.5 1051.3,-127.5 1060.57,-127.5\"/>\n<polygon fill=\"black\" stroke=\"black\" points=\"1060.81,-131 1070.81,-127.5 1060.81,-124 1060.81,-131\"/>\n</g>\n</g>\n</svg>\n",
            "text/plain": [
              "<graphviz.graphs.Digraph at 0x7f1d2350a820>"
            ]
          },
          "metadata": {},
          "execution_count": 29
        }
      ]
    },
    {
      "cell_type": "markdown",
      "source": [
        "# PyTorch"
      ],
      "metadata": {
        "id": "99DVr6arGPLz"
      }
    },
    {
      "cell_type": "code",
      "source": [
        "import torch\n",
        "import random"
      ],
      "metadata": {
        "id": "flR38Q66GO66"
      },
      "execution_count": 33,
      "outputs": []
    },
    {
      "cell_type": "code",
      "source": [
        "x1 = torch.Tensor([2.0]).double(); x1.requires_grad = True\n",
        "x2 = torch.Tensor([0.0]).double(); x2.requires_grad = True\n",
        "w1 = torch.Tensor([-3.0]).double(); w1.requires_grad = True\n",
        "w2 = torch.Tensor([1.0]).double(); w2.requires_grad = True\n",
        "b = torch.Tensor([6.8813735870195432]).double(); b.requires_grad = True\n",
        "n = x1*w1 + x2*w2 + b\n",
        "o = torch.tanh(n)\n",
        "\n",
        "print(o.data.item())\n",
        "o.backward()\n",
        "\n",
        "print('---')\n",
        "print('x2', x2.grad.item())\n",
        "print('w2', w2.grad.item())\n",
        "print('x1', x1.grad.item())\n",
        "print('w1', w1.grad.item())"
      ],
      "metadata": {
        "id": "LtztqC9eGr6G",
        "colab": {
          "base_uri": "https://localhost:8080/"
        },
        "outputId": "aafa65ce-084d-4ec1-ab82-8e73950bc3ef"
      },
      "execution_count": 30,
      "outputs": [
        {
          "output_type": "stream",
          "name": "stdout",
          "text": [
            "0.7071066904050358\n",
            "---\n",
            "x2 0.5000001283844369\n",
            "w2 0.0\n",
            "x1 -1.5000003851533106\n",
            "w1 1.0000002567688737\n"
          ]
        }
      ]
    },
    {
      "cell_type": "code",
      "source": [
        "class Neuron:\n",
        "  \n",
        "  def __init__(self, nin):\n",
        "    self.w = [Value(random.uniform(-1,1)) for _ in range(nin)]\n",
        "    self.b = Value(random.uniform(-1,1))\n",
        "  \n",
        "  def __call__(self, x):\n",
        "    # w * x + b\n",
        "    act = sum((wi*xi for wi, xi in zip(self.w, x)), self.b)\n",
        "    out = act.tanh()\n",
        "    return out\n",
        "\n",
        "  def parameters(self):\n",
        "    return self.w + [self.b]\n",
        "\n",
        "class Layer:\n",
        "  \n",
        "  def __init__(self, nin, nout):\n",
        "    self.neurons = [Neuron(nin) for _ in range(nout)]\n",
        "  \n",
        "  def __call__(self, x):\n",
        "    outs = [n(x) for n in self.neurons]\n",
        "    return outs[0] if len(outs) == 1 else outs\n",
        "  \n",
        "  def parameters(self):\n",
        "    return [p for neuron in self.neurons for p in neuron.parameters()]\n",
        "\n",
        "class MLP:\n",
        "  \n",
        "  def __init__(self, nin, nouts):\n",
        "    sz = [nin] + nouts\n",
        "    self.layers = [Layer(sz[i], sz[i+1]) for i in range(len(nouts))]\n",
        "  \n",
        "  def __call__(self, x):\n",
        "    for layer in self.layers:\n",
        "      x = layer(x)\n",
        "    return x\n",
        "  \n",
        "  def parameters(self):\n",
        "    return [p for layer in self.layers for p in layer.parameters()]"
      ],
      "metadata": {
        "id": "mWCSZy6iFv0k"
      },
      "execution_count": 93,
      "outputs": []
    },
    {
      "cell_type": "code",
      "source": [
        "x = [2, 3, -1]\n",
        "n = MLP(3, [4, 4, 1])\n",
        "n(x)"
      ],
      "metadata": {
        "id": "xOHIyHCcGr27",
        "colab": {
          "base_uri": "https://localhost:8080/"
        },
        "outputId": "180d5beb-9444-4e70-bac5-c40b75600a07"
      },
      "execution_count": 157,
      "outputs": [
        {
          "output_type": "execute_result",
          "data": {
            "text/plain": [
              "Value(data=-0.53366358377168)"
            ]
          },
          "metadata": {},
          "execution_count": 157
        }
      ]
    },
    {
      "cell_type": "code",
      "source": [
        "xs = [\n",
        "    [2.0, 3.0, -1.0],\n",
        "    [3.0, -1.0, 0.5],\n",
        "    [0.5, 1.0, 1.0],\n",
        "    [1.0, 1.0, -1.0],\n",
        "]\n",
        "ys = [1.0, -1.0, -1.0, 1.0] # desired targets"
      ],
      "metadata": {
        "id": "rUfjDJKCGr0a"
      },
      "execution_count": 158,
      "outputs": []
    },
    {
      "cell_type": "code",
      "source": [
        "ypred = [n(x) for x in xs]\n",
        "ypred"
      ],
      "metadata": {
        "id": "uBxphZN-Ngm6",
        "outputId": "3dc61c1a-9c7d-4027-df67-f14db5473f40",
        "colab": {
          "base_uri": "https://localhost:8080/"
        }
      },
      "execution_count": 159,
      "outputs": [
        {
          "output_type": "execute_result",
          "data": {
            "text/plain": [
              "[Value(data=-0.53366358377168),\n",
              " Value(data=-0.7384210132539865),\n",
              " Value(data=-0.5679948809727834),\n",
              " Value(data=-0.521663351328208)]"
            ]
          },
          "metadata": {},
          "execution_count": 159
        }
      ]
    },
    {
      "cell_type": "code",
      "source": [
        "loss = sum((yout - ygt)**2 for ygt, yout in zip(ys, ypred))\n",
        "loss"
      ],
      "metadata": {
        "id": "CkIdx_9XNgkm",
        "outputId": "090d83ff-b9c1-4a49-9b51-38503fd91204",
        "colab": {
          "base_uri": "https://localhost:8080/"
        }
      },
      "execution_count": 160,
      "outputs": [
        {
          "output_type": "execute_result",
          "data": {
            "text/plain": [
              "Value(data=4.922635332135577)"
            ]
          },
          "metadata": {},
          "execution_count": 160
        }
      ]
    },
    {
      "cell_type": "code",
      "source": [
        "n.layers[0].neurons[0].w[0].data"
      ],
      "metadata": {
        "id": "c2VwJxIcNgiG",
        "outputId": "d9274318-09f7-417e-b089-45082f1fd98d",
        "colab": {
          "base_uri": "https://localhost:8080/"
        }
      },
      "execution_count": 161,
      "outputs": [
        {
          "output_type": "execute_result",
          "data": {
            "text/plain": [
              "-0.6246576126148862"
            ]
          },
          "metadata": {},
          "execution_count": 161
        }
      ]
    },
    {
      "cell_type": "code",
      "source": [
        "n.layers[0].neurons[0].w[0].grad"
      ],
      "metadata": {
        "id": "9BNFbz36Ngfx",
        "outputId": "5c5fcc8a-2430-4aa7-a570-9d17d5f6de1c",
        "colab": {
          "base_uri": "https://localhost:8080/"
        }
      },
      "execution_count": 162,
      "outputs": [
        {
          "output_type": "execute_result",
          "data": {
            "text/plain": [
              "0.0"
            ]
          },
          "metadata": {},
          "execution_count": 162
        }
      ]
    },
    {
      "cell_type": "code",
      "source": [
        "loss.backward()"
      ],
      "metadata": {
        "id": "N0LAIIGOGryL"
      },
      "execution_count": 163,
      "outputs": []
    },
    {
      "cell_type": "code",
      "source": [
        "n.layers[0].neurons[0].w[0].grad"
      ],
      "metadata": {
        "id": "xxjRv5GRRqSK",
        "outputId": "cb86327f-9fd5-4316-9bf5-21a66788165f",
        "colab": {
          "base_uri": "https://localhost:8080/"
        }
      },
      "execution_count": 164,
      "outputs": [
        {
          "output_type": "execute_result",
          "data": {
            "text/plain": [
              "-0.12982520079116316"
            ]
          },
          "metadata": {},
          "execution_count": 164
        }
      ]
    },
    {
      "cell_type": "code",
      "source": [
        "learning_rate = 0.05\n",
        "\n",
        "n = MLP(3, [4, 4, 1])\n",
        "\n",
        "for k in range(20):\n",
        "  # forward pass\n",
        "  ypred = [n(x) for x in xs]\n",
        "  loss = sum((yout - ygt)**2 for ygt, yout in zip(ys, ypred))\n",
        "\n",
        "  # backward pass\n",
        "  for p in n.parameters():\n",
        "    p.grad = 0.0\n",
        "  loss.backward()\n",
        "  \n",
        "  # update\n",
        "  for p in n.parameters():\n",
        "    p.data += -learning_rate * p.grad\n",
        "  \n",
        "  # print\n",
        "  print(k, loss.data)"
      ],
      "metadata": {
        "id": "LNKRcGVeRqNN",
        "outputId": "2cd7bdfc-2848-463e-c692-10ae5b255caa",
        "colab": {
          "base_uri": "https://localhost:8080/"
        }
      },
      "execution_count": 182,
      "outputs": [
        {
          "output_type": "stream",
          "name": "stdout",
          "text": [
            "0 4.288511992907301\n",
            "1 3.7760764715117734\n",
            "2 3.3550162006509145\n",
            "3 2.9176183427527156\n",
            "4 2.434587328652469\n",
            "5 1.9504025308579522\n",
            "6 1.5200070582768914\n",
            "7 1.170856242215225\n",
            "8 0.9074180771122871\n",
            "9 0.7150105250124703\n",
            "10 0.5754973361661609\n",
            "11 0.47289970832306694\n",
            "12 0.39588083639850197\n",
            "13 0.33684657991134925\n",
            "14 0.2907063592448099\n",
            "15 0.25399372104870144\n",
            "16 0.22430708617954137\n",
            "17 0.1999516240273113\n",
            "18 0.17970904315398237\n",
            "19 0.16268804833005912\n"
          ]
        }
      ]
    },
    {
      "cell_type": "code",
      "source": [
        "ypred"
      ],
      "metadata": {
        "id": "U-8MsJJUTiec",
        "outputId": "2ee25bda-41bd-4e77-8d79-fadde5fdab9a",
        "colab": {
          "base_uri": "https://localhost:8080/"
        }
      },
      "execution_count": 185,
      "outputs": [
        {
          "output_type": "execute_result",
          "data": {
            "text/plain": [
              "[Value(data=0.8317651887803023),\n",
              " Value(data=-0.7918449548302445),\n",
              " Value(data=-0.7774427256365833),\n",
              " Value(data=0.7962235700032123)]"
            ]
          },
          "metadata": {},
          "execution_count": 185
        }
      ]
    },
    {
      "cell_type": "code",
      "source": [
        "learning_rate = 0.01\n",
        "\n",
        "n = MLP(3, [4, 4, 1])\n",
        "\n",
        "plot_data = {}\n",
        "\n",
        "for k in range(100):\n",
        "  # forward pass\n",
        "  ypred = [n(x) for x in xs]\n",
        "  loss = sum((yout - ygt)**2 for ygt, yout in zip(ys, ypred))\n",
        "\n",
        "  # backward pass\n",
        "  for p in n.parameters():\n",
        "    p.grad = 0.0\n",
        "  loss.backward()\n",
        "  \n",
        "  # update\n",
        "  for p in n.parameters():\n",
        "    p.data += -learning_rate * p.grad\n",
        "  \n",
        "  # record\n",
        "  plot_data[k] = loss.data"
      ],
      "metadata": {
        "id": "5h0ZGk7FTib0"
      },
      "execution_count": 192,
      "outputs": []
    },
    {
      "cell_type": "code",
      "source": [
        "from  matplotlib import pyplot as plt\n",
        "plt.scatter(x=plot_data.keys(), y = plot_data.values())"
      ],
      "metadata": {
        "id": "JUNwhmp4TiZL",
        "outputId": "5ad23612-2bb1-4036-9ec3-d136a736c537",
        "colab": {
          "base_uri": "https://localhost:8080/",
          "height": 282
        }
      },
      "execution_count": 193,
      "outputs": [
        {
          "output_type": "execute_result",
          "data": {
            "text/plain": [
              "<matplotlib.collections.PathCollection at 0x7f1d1855af40>"
            ]
          },
          "metadata": {},
          "execution_count": 193
        },
        {
          "output_type": "display_data",
          "data": {
            "text/plain": [
              "<Figure size 432x288 with 1 Axes>"
            ],
            "image/png": "[encoded data removed]"
          },
          "metadata": {
            "needs_background": "light"
          }
        }
      ]
    },
    {
      "cell_type": "code",
      "source": [
        "ypred"
      ],
      "metadata": {
        "id": "XlxhBueUWOlw",
        "outputId": "d37a3024-088f-4de9-e5da-e32799273bc1",
        "colab": {
          "base_uri": "https://localhost:8080/"
        }
      },
      "execution_count": 194,
      "outputs": [
        {
          "output_type": "execute_result",
          "data": {
            "text/plain": [
              "[Value(data=0.8919536817853633),\n",
              " Value(data=-0.8986132141034223),\n",
              " Value(data=-0.8917733594458271),\n",
              " Value(data=0.8867756833110313)]"
            ]
          },
          "metadata": {},
          "execution_count": 194
        }
      ]
    }
  ],
  "metadata": {
    "colab": {
      "name": "Welcome to Colaboratory",
      "provenance": [],
      "toc_visible": true,
      "include_colab_link": true
    },
    "kernelspec": {
      "display_name": "Python 3",
      "name": "python3"
    }
  },
  "nbformat": 4,
  "nbformat_minor": 0
}